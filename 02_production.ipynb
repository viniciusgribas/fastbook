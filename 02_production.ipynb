{
  "cells": [
    {
      "cell_type": "markdown",
      "metadata": {
        "id": "view-in-github",
        "colab_type": "text"
      },
      "source": [
        "<a href=\"https://colab.research.google.com/github/viniciusgribas/fastbook/blob/master/02_production.ipynb\" target=\"_parent\"><img src=\"https://colab.research.google.com/assets/colab-badge.svg\" alt=\"Open In Colab\"/></a>"
      ]
    },
    {
      "cell_type": "code",
      "execution_count": 3,
      "metadata": {
        "id": "XFPpYksZhsdq"
      },
      "outputs": [],
      "source": [
        "#hide\n",
        "! [ -e /content ] && pip install -Uqq fastbook\n",
        "import fastbook\n",
        "fastbook.setup_book()"
      ]
    },
    {
      "cell_type": "code",
      "execution_count": 4,
      "metadata": {
        "id": "OZWE9p4Ahsdt"
      },
      "outputs": [],
      "source": [
        "#hide\n",
        "from fastbook import *\n",
        "from fastai.vision.widgets import *"
      ]
    },
    {
      "cell_type": "raw",
      "metadata": {
        "id": "yxe6TkGlhsdu"
      },
      "source": [
        "[[chapter_production]]"
      ]
    },
    {
      "cell_type": "markdown",
      "metadata": {
        "id": "yptp5qOchsdv"
      },
      "source": [
        "# From Model to Production"
      ]
    },
    {
      "cell_type": "markdown",
      "metadata": {
        "id": "rNiJ3Wndhsdx"
      },
      "source": [
        "The six lines of code we saw in <<chapter_intro>> are just one small part of the process of using deep learning in practice. In this chapter, we're going to use a computer vision example to look at the end-to-end process of creating a deep learning application. More specifically, we're going to build a bear classifier! In the process, we'll discuss the capabilities and constraints of deep learning, explore how to create datasets, look at possible gotchas when using deep learning in practice, and more. Many of the key points will apply equally well to other deep learning problems, such as those in <<chapter_intro>>. If you work through a problem similar in key respects to our example problems, we expect you to get excellent results with little code, quickly.\n",
        "\n",
        "Let's start with how you should frame your problem."
      ]
    },
    {
      "cell_type": "markdown",
      "metadata": {
        "id": "mFn0POEPhsdx"
      },
      "source": [
        "## The Practice of Deep Learning"
      ]
    },
    {
      "cell_type": "markdown",
      "metadata": {
        "id": "9lv69BSqhsdy"
      },
      "source": [
        "We've seen that deep learning can solve a lot of challenging problems quickly and with little code. As a beginner, there's a sweet spot of problems that are similar enough to our example problems that you can very quickly get extremely useful results. However, deep learning isn't magic! The same 6 lines of code won't work for every problem anyone can think of today. Underestimating the constraints and overestimating the capabilities of deep learning may lead to frustratingly poor results, at least until you gain some experience and can solve the problems that arise. Conversely, overestimating the constraints and underestimating the capabilities of deep learning may mean you do not attempt a solvable problem because you talk yourself out of it.\n",
        "\n",
        "We often talk to people who underestimate both the constraints and the capabilities of deep learning. Both of these can be problems: underestimating the capabilities means that you might not even try things that could be very beneficial, and underestimating the constraints might mean that you fail to consider and react to important issues.\n",
        "\n",
        "The best thing to do is to keep an open mind. If you remain open to the possibility that deep learning might solve part of your problem with less data or complexity than you expect, then it is possible to design a process where you can find the specific capabilities and constraints related to your particular problem as you work through the process. This doesn't mean making any risky bets — we will show you how you can gradually roll out models so that they don't create significant risks, and can even backtest them prior to putting them in production."
      ]
    },
    {
      "cell_type": "markdown",
      "metadata": {
        "id": "JtjSU_Kihsdz"
      },
      "source": [
        "### Starting Your Project"
      ]
    },
    {
      "cell_type": "markdown",
      "metadata": {
        "id": "IFE1Izizhsd0"
      },
      "source": [
        "So where should you start your deep learning journey? The most important thing is to ensure that you have some project to work on—it is only through working on your own projects that you will get real experience building and using models. When selecting a project, the most important consideration is data availability. Regardless of whether you are doing a project just for your own learning or for practical application in your organization, you want something where you can get started quickly. We have seen many students, researchers, and industry practitioners waste months or years while they attempt to find their perfect dataset. The goal is not to find the \"perfect\" dataset or project, but just to get started and iterate from there.\n",
        "\n",
        "If you take this approach, then you will be on your third iteration of learning and improving while the perfectionists are still in the planning stages!\n",
        "\n",
        "We also suggest that you iterate from end to end in your project; that is, don't spend months fine-tuning your model, or polishing the perfect GUI, or labelling the perfect dataset… Instead, complete every step as well as you can in a reasonable amount of time, all the way to the end. For instance, if your final goal is an application that runs on a mobile phone, then that should be what you have after each iteration. But perhaps in the early iterations you take some shortcuts, for instance by doing all of the processing on a remote server, and using a simple responsive web application. By completing the project end to end, you will see where the trickiest bits are, and which bits make the biggest difference to the final result."
      ]
    },
    {
      "cell_type": "markdown",
      "metadata": {
        "id": "Cr2gOjByhsd0"
      },
      "source": [
        "As you work through this book, we suggest that you complete lots of small experiments, by running and adjusting the notebooks we provide, at the same time that you gradually develop your own projects. That way, you will be getting experience with all of the tools and techniques that we're explaining, as we discuss them.\n",
        "\n",
        "> s: To make the most of this book, take the time to experiment between each chapter, be it on your own project or by exploring the notebooks we provide. Then try rewriting those notebooks from scratch on a new dataset. It's only by practicing (and failing) a lot that you will get an intuition of how to train a model.  \n",
        "\n",
        "By using the end-to-end iteration approach you will also get a better understanding of how much data you really need. For instance, you may find you can only easily get 200 labeled data items, and you can't really know until you try whether that's enough to get the performance you need for your application to work well in practice.\n",
        "\n",
        "In an organizational context you will be able to show your colleagues that your idea can really work by showing them a real working prototype. We have repeatedly observed that this is the secret to getting good organizational buy-in for a project."
      ]
    },
    {
      "cell_type": "markdown",
      "metadata": {
        "id": "Skx3RZLHhsd1"
      },
      "source": [
        "Since it is easiest to get started on a project where you already have data available, that means it's probably easiest to get started on a project related to something you are already doing, because you already have data about things that you are doing. For instance, if you work in the music business, you may have access to many recordings. If you work as a radiologist, you probably have access to lots of medical images. If you are interested in wildlife preservation, you may have access to lots of images of wildlife.\n",
        "\n",
        "Sometimes, you have to get a bit creative. Maybe you can find some previous machine learning project, such as a Kaggle competition, that is related to your field of interest. Sometimes, you have to compromise. Maybe you can't find the exact data you need for the precise project you have in mind; but you might be able to find something from a similar domain, or measured in a different way, tackling a slightly different problem. Working on these kinds of similar projects will still give you a good understanding of the overall process, and may help you identify other shortcuts, data sources, and so forth.\n",
        "\n",
        "Especially when you are just starting out with deep learning, it's not a good idea to branch out into very different areas, to places that deep learning has not been applied to before. That's because if your model does not work at first, you will not know whether it is because you have made a mistake, or if the very problem you are trying to solve is simply not solvable with deep learning. And you won't know where to look to get help. Therefore, it is best at first to start with something where you can find an example online where somebody has had good results with something that is at least somewhat similar to what you are trying to achieve, or where you can convert your data into a format similar to what someone else has used before (such as creating an image from your data). Let's have a look at the state of deep learning, just so you know what kinds of things deep learning is good at right now."
      ]
    },
    {
      "cell_type": "markdown",
      "metadata": {
        "id": "ofCTZYtchsd1"
      },
      "source": [
        "### The State of Deep Learning"
      ]
    },
    {
      "cell_type": "markdown",
      "metadata": {
        "id": "X57efTyDhsd2"
      },
      "source": [
        "Let's start by considering whether deep learning can be any good at the problem you are looking to work on. This section provides a summary of the state of deep learning at the start of 2020. However, things move very fast, and by the time you read this some of these constraints may no longer exist. We will try to keep the [book's website](https://book.fast.ai/) up-to-date; in addition, a Google search for \"what can AI do now\" is likely to provide current information."
      ]
    },
    {
      "cell_type": "markdown",
      "metadata": {
        "id": "scE7yzZshsd2"
      },
      "source": [
        "#### Computer vision"
      ]
    },
    {
      "cell_type": "markdown",
      "metadata": {
        "id": "KNKYstPxhsd2"
      },
      "source": [
        "There are many domains in which deep learning has not been used to analyze images yet, but those where it has been tried have nearly universally shown that computers can recognize what items are in an image at least as well as people can—even specially trained people, such as radiologists. This is known as *object recognition*. Deep learning is also good at recognizing where objects in an image are, and can highlight their locations and name each found object. This is known as *object detection* (there is also a variant of this that we saw in <<chapter_intro>>, where every pixel is categorized based on what kind of object it is part of—this is called *segmentation*). Deep learning algorithms are generally not good at recognizing images that are significantly different in structure or style to those used to train the model. For instance, if there were no black-and-white images in the training data, the model may do poorly on black-and-white images. Similarly, if the training data did not contain hand-drawn images, then the model will probably do poorly on hand-drawn images. There is no general way to check what types of images are missing in your training set, but we will show in this chapter some ways to try to recognize when unexpected image types arise in the data when the model is being used in production (this is known as checking for *out-of-domain* data).\n",
        "\n",
        "One major challenge for object detection systems is that image labelling can be slow and expensive. There is a lot of work at the moment going into tools to try to make this labelling faster and easier, and to require fewer handcrafted labels to train accurate object detection models. One approach that is particularly helpful is to synthetically generate variations of input images, such as by rotating them or changing their brightness and contrast; this is called *data augmentation* and also works well for text and other types of models. We will be discussing it in detail in this chapter.\n",
        "\n",
        "Another point to consider is that although your problem might not look like a computer vision problem, it might be possible with a little imagination to turn it into one. For instance, if what you are trying to classify are sounds, you might try converting the sounds into images of their acoustic waveforms and then training a model on those images."
      ]
    },
    {
      "cell_type": "markdown",
      "metadata": {
        "id": "TSMc2Zyphsd2"
      },
      "source": [
        "#### Text (natural language processing)"
      ]
    },
    {
      "cell_type": "markdown",
      "metadata": {
        "id": "3dpJ9PwXhsd2"
      },
      "source": [
        "Computers are very good at classifying both short and long documents based on categories such as spam or not spam, sentiment (e.g., is the review positive or negative), author, source website, and so forth. We are not aware of any rigorous work done in this area to compare them to humans, but anecdotally it seems to us that deep learning performance is similar to human performance on these tasks. Deep learning is also very good at generating context-appropriate text, such as replies to social media posts, and imitating a particular author's style. It's good at making this content compelling to humans too—in fact, even more compelling than human-generated text. However, deep learning is currently not good at generating *correct* responses! We don't currently have a reliable way to, for instance, combine a knowledge base of medical information with a deep learning model for generating medically correct natural language responses. This is very dangerous, because it is so easy to create content that appears to a layman to be compelling, but actually is entirely incorrect.\n",
        "\n",
        "Another concern is that context-appropriate, highly compelling responses on social media could be used at massive scale—thousands of times greater than any troll farm previously seen—to spread disinformation, create unrest, and encourage conflict. As a rule of thumb, text generation models will always be technologically a bit ahead of models recognizing automatically generated text. For instance, it is possible to use a model that can recognize artificially generated content to actually improve the generator that creates that content, until the classification model is no longer able to complete its task.\n",
        "\n",
        "Despite these issues, deep learning has many applications in NLP: it can be used to translate text from one language to another, summarize long documents into something that can be digested more quickly, find all mentions of a concept of interest, and more. Unfortunately, the translation or summary could well include completely incorrect information! However, the performance is already good enough that many people are using these systems—for instance, Google's online translation system (and every other online service we are aware of) is based on deep learning."
      ]
    },
    {
      "cell_type": "markdown",
      "metadata": {
        "id": "7fRUwVozhsd3"
      },
      "source": [
        "#### Combining text and images"
      ]
    },
    {
      "cell_type": "markdown",
      "metadata": {
        "id": "RhOZFQbLhsd3"
      },
      "source": [
        "The ability of deep learning to combine text and images into a single model is, generally, far better than most people intuitively expect. For example, a deep learning model can be trained on input images with output captions written in English, and can learn to generate surprisingly appropriate captions automatically for new images! But again, we have the same warning that we discussed in the previous section: there is no guarantee that these captions will actually be correct.\n",
        "\n",
        "Because of this serious issue, we generally recommend that deep learning be used not as an entirely automated process, but as part of a process in which the model and a human user interact closely. This can potentially make humans orders of magnitude more productive than they would be with entirely manual methods, and actually result in more accurate processes than using a human alone. For instance, an automatic system can be used to identify potential stroke victims directly from CT scans, and send a high-priority alert to have those scans looked at quickly. There is only a three-hour window to treat strokes, so this fast feedback loop could save lives. At the same time, however, all scans could continue to be sent to radiologists in the usual way, so there would be no reduction in human input. Other deep learning models could automatically measure items seen on the scans, and insert those measurements into reports, warning the radiologists about findings that they may have missed, and telling them about other cases that might be relevant."
      ]
    },
    {
      "cell_type": "markdown",
      "metadata": {
        "id": "MyHYPPTVhsd3"
      },
      "source": [
        "#### Tabular data"
      ]
    },
    {
      "cell_type": "markdown",
      "metadata": {
        "id": "UI4XO977hsd3"
      },
      "source": [
        "For analyzing time series and tabular data, deep learning has recently been making great strides. However, deep learning is generally used as part of an ensemble of multiple types of model. If you already have a system that is using random forests or gradient boosting machines (popular tabular modeling tools that you will learn about soon), then switching to or adding deep learning may not result in any dramatic improvement. Deep learning does greatly increase the variety of columns that you can include—for example, columns containing natural language (book titles, reviews, etc.), and high-cardinality categorical columns (i.e., something that contains a large number of discrete choices, such as zip code or product ID). On the down side, deep learning models generally take longer to train than random forests or gradient boosting machines, although this is changing thanks to libraries such as [RAPIDS](https://rapids.ai/), which provides GPU acceleration for the whole modeling pipeline. We cover the pros and cons of all these methods in detail in <<chapter_tabular>>."
      ]
    },
    {
      "cell_type": "markdown",
      "metadata": {
        "id": "8eG8nSlUhsd4"
      },
      "source": [
        "#### Recommendation systems"
      ]
    },
    {
      "cell_type": "markdown",
      "metadata": {
        "id": "qJuqVvZzhsd4"
      },
      "source": [
        "Recommendation systems are really just a special type of tabular data. In particular, they generally have a high-cardinality categorical variable representing users, and another one representing products (or something similar). A company like Amazon represents every purchase that has ever been made by its customers as a giant sparse matrix, with customers as the rows and products as the columns. Once they have the data in this format, data scientists apply some form of collaborative filtering to *fill in the matrix*. For example, if customer A buys products 1 and 10, and customer B buys products 1, 2, 4, and 10, the engine will recommend that A buy 2 and 4. Because deep learning models are good at handling high-cardinality categorical variables, they are quite good at handling recommendation systems. They particularly come into their own, just like for tabular data, when combining these variables with other kinds of data, such as natural language or images. They can also do a good job of combining all of these types of information with additional metadata represented as tables, such as user information, previous transactions, and so forth.\n",
        "\n",
        "However, nearly all machine learning approaches have the downside that they only tell you what products a particular user might like, rather than what recommendations would be helpful for a user. Many kinds of recommendations for products a user might like may not be at all helpful—for instance, if the user is already familiar with the products, or if they are simply different packagings of products they have already purchased (such as a boxed set of novels, when they already have each of the items in that set). Jeremy likes reading books by Terry Pratchett, and for a while Amazon was recommending nothing but Terry Pratchett books to him (see <<pratchett>>), which really wasn't helpful because he already was aware of these books!"
      ]
    },
    {
      "cell_type": "markdown",
      "metadata": {
        "id": "CYqTMfDHhsd4"
      },
      "source": [
        "<img alt=\"Terry Pratchett books recommendation\" caption=\"A not-so-useful recommendation\" id=\"pratchett\" src=\"https://github.com/fastai/fastbook/blob/master/images/pratchett.png?raw=1\">"
      ]
    },
    {
      "cell_type": "markdown",
      "metadata": {
        "id": "cODbfS-ohsd4"
      },
      "source": [
        "#### Other data types"
      ]
    },
    {
      "cell_type": "markdown",
      "metadata": {
        "id": "L8s3HxrLhsd4"
      },
      "source": [
        "Often you will find that domain-specific data types fit very nicely into existing categories. For instance, protein chains look a lot like natural language documents, in that they are long sequences of discrete tokens with complex relationships and meaning throughout the sequence. And indeed, it does turn out that using NLP deep learning methods is the current state-of-the-art approach for many types of protein analysis. As another example, sounds can be represented as spectrograms, which can be treated as images; standard deep learning approaches for images turn out to work really well on spectrograms."
      ]
    },
    {
      "cell_type": "markdown",
      "metadata": {
        "id": "1259xvwshsd5"
      },
      "source": [
        "### The Drivetrain Approach"
      ]
    },
    {
      "cell_type": "markdown",
      "metadata": {
        "id": "HP0CGLeMhsd5"
      },
      "source": [
        "There are many accurate models that are of no use to anyone, and many inaccurate models that are highly useful. To ensure that your modeling work is useful in practice, you need to consider how your work will be used. In 2012 Jeremy, along with Margit Zwemer and Mike Loukides, introduced a method called *the Drivetrain Approach* for thinking about this issue."
      ]
    },
    {
      "cell_type": "markdown",
      "metadata": {
        "id": "dGXUtj_Thsd5"
      },
      "source": [
        "The Drivetrain Approach, illustrated in <<drivetrain>>, was described in detail in [\"Designing Great Data Products\"](https://www.oreilly.com/radar/drivetrain-approach-data-products/). The basic idea is to start with considering your objective, then think about what actions you can take to meet that objective and what data you have (or can acquire) that can help, and then build a model that you can use to determine the best actions to take to get the best results in terms of your objective."
      ]
    },
    {
      "cell_type": "markdown",
      "metadata": {
        "id": "3tq_Jejmhsd5"
      },
      "source": [
        "<img src=\"https://github.com/fastai/fastbook/blob/master/images/drivetrain-approach.png?raw=1\" id=\"drivetrain\" caption=\"The Drivetrain Approach\">"
      ]
    },
    {
      "cell_type": "markdown",
      "metadata": {
        "id": "eXdImbXhhsd5"
      },
      "source": [
        "Consider a model in an autonomous vehicle: you want to help a car drive safely from point A to point B without human intervention. Great predictive modeling is an important part of the solution, but it doesn't stand on its own; as products become more sophisticated, it disappears into the plumbing. Someone using a self-driving car is completely unaware of the hundreds (if not thousands) of models and the petabytes of data that make it work. But as data scientists build increasingly sophisticated products, they need a systematic design approach.\n",
        "\n",
        "We use data not just to generate more data (in the form of predictions), but to produce *actionable outcomes*. That is the goal of the Drivetrain Approach. Start by defining a clear *objective*. For instance, Google, when creating their first search engine, considered \"What is the user’s main objective in typing in a search query?\" This led them to their objective, which was to \"show the most relevant search result.\" The next step is to consider what *levers* you can pull (i.e., what actions you can take) to better achieve that objective. In Google's case, that was the ranking of the search results. The third step was to consider what new *data* they would need to produce such a ranking; they realized that the implicit information regarding which pages linked to which other pages could be used for this purpose. Only after these first three steps do we begin thinking about building the predictive *models*. Our objective and available levers, what data we already have and what additional data we will need to collect, determine the models we can build. The models will take both the levers and any uncontrollable variables as their inputs; the outputs from the models can be combined to predict the final state for our objective."
      ]
    },
    {
      "cell_type": "markdown",
      "metadata": {
        "id": "kmf4hi5-hsd6"
      },
      "source": [
        "Let's consider another example: recommendation systems. The *objective* of a recommendation engine is to drive additional sales by surprising and delighting the customer with recommendations of items they would not have purchased without the recommendation. The *lever* is the ranking of the recommendations. New *data* must be collected to generate recommendations that will *cause new sales*. This will require conducting many randomized experiments in order to collect data about a wide range of recommendations for a wide range of customers. This is a step that few organizations take; but without it, you don't have the information you need to actually optimize recommendations based on your true objective (more sales!).\n",
        "\n",
        "Finally, you could build two *models* for purchase probabilities, conditional on seeing or not seeing a recommendation. The difference between these two probabilities is a utility function for a given recommendation to a customer. It will be low in cases where the algorithm recommends a familiar book that the customer has already rejected (both components are small) or a book that they would have bought even without the recommendation (both components are large and cancel each other out).\n",
        "\n",
        "As you can see, in practice often the practical implementation of your models will require a lot more than just training a model! You'll often need to run experiments to collect more data, and consider how to incorporate your models into the overall system you're developing. Speaking of data, let's now focus on how to find data for your project."
      ]
    },
    {
      "cell_type": "markdown",
      "metadata": {
        "id": "UmJRwItChsd6"
      },
      "source": [
        "## Gathering Data"
      ]
    },
    {
      "cell_type": "markdown",
      "metadata": {
        "id": "VarX4Acjhsd6"
      },
      "source": [
        "For many types of projects, you may be able to find all the data you need online. The project we'll be completing in this chapter is a *bear detector*. It will discriminate between three types of bear: grizzly, black, and teddy bears. There are many images on the internet of each type of bear that we can use. We just need a way to find them and download them. We've provided a tool you can use for this purpose, so you can follow along with this chapter and create your own image recognition application for whatever kinds of objects you're interested in. In the fast.ai course, thousands of students have presented their work in the course forums, displaying everything from hummingbird varieties in Trinidad to bus types in Panama—one student even created an application that would help his fiancée recognize his 16 cousins during Christmas vacation!"
      ]
    },
    {
      "cell_type": "markdown",
      "metadata": {
        "id": "IomniFPZhsd6"
      },
      "source": [
        "At the time of writing, Bing Image Search is the best option we know of for finding and downloading images. It's free for up to 1,000 queries per month, and each query can download up to 150 images. However, something better might have come along between when we wrote this and when you're reading the book, so be sure to check out the [book's website](https://book.fast.ai/) for our current recommendation."
      ]
    },
    {
      "cell_type": "markdown",
      "metadata": {
        "id": "0_HKW-fzhsd7"
      },
      "source": [
        "> important: Keeping in Touch With the Latest Services: Services that can be used for creating datasets come and go all the time, and their features, interfaces, and pricing change regularly too. In this section, we'll show how to use the Bing Image Search API available at the time this book was written. We'll be providing more options and more up to date information on the [book's website](https://book.fast.ai/), so be sure to have a look there now to get the most current information on how to download images from the web to create a dataset for deep learning."
      ]
    },
    {
      "cell_type": "markdown",
      "metadata": {
        "id": "GVN28EHZhsd7"
      },
      "source": [
        "# clean\n",
        "To download images with Bing Image Search, sign up at [Microsoft Azure](https://azure.microsoft.com/en-us/services/cognitive-services/bing-web-search-api/) for a free account. You will be given a key, which you can copy and enter in a cell as follows (replacing 'XXX' with your key and executing it):"
      ]
    },
    {
      "cell_type": "code",
      "source": [
        "# ! pip install serpapi"
      ],
      "metadata": {
        "id": "4dJvGCivnOIf"
      },
      "execution_count": 5,
      "outputs": []
    },
    {
      "cell_type": "code",
      "source": [
        "\n",
        "# !pip install google-search-results\n",
        "# !pip install google-serp-api"
      ],
      "metadata": {
        "id": "rXs53LYwovtO"
      },
      "execution_count": 2,
      "outputs": []
    },
    {
      "cell_type": "code",
      "execution_count": 8,
      "metadata": {
        "id": "hq7fFSGihsd7"
      },
      "outputs": [],
      "source": [
        "from serpapi import GoogleSearch\n",
        "\n",
        "params = {\n",
        "  \"engine\": \"bing_images\",\n",
        "  \"q\": \"coffee\",\n",
        "  \"api_key\": \"3751c24404475a0d80a4c9f7fbbcfd51e930ac037eed1beefd1e8c84b36d8b91\"\n",
        "}\n",
        "\n",
        "search = GoogleSearch(params)\n",
        "results = search.get_dict()\n",
        "images_results = results[\"images_results\"]"
      ]
    },
    {
      "cell_type": "code",
      "source": [
        "\n",
        "images_results"
      ],
      "metadata": {
        "id": "ZYW6l1M5pI7d",
        "outputId": "9f766b99-853c-47b5-d538-1e9b249b68b0",
        "colab": {
          "base_uri": "https://localhost:8080/"
        }
      },
      "execution_count": 9,
      "outputs": [
        {
          "output_type": "execute_result",
          "data": {
            "text/plain": [
              "[{'thumbnail': 'https://tse4.mm.bing.net/th/id/OIP.lRjC06h2RckQ92Ew5aNryAHaE8?w=207&h=180&c=7&r=0&o=5&pid=1.7',\n",
              "  'link': 'https://www.bing.com/images/search?view=detailV2&ccid=lRjC06h2&id=F010CB518954F192005C746B00154C40A78126E2&thid=OIP.lRjC06h2RckQ92Ew5aNryAHaE8&mediaurl=https%3a%2f%2fth.bing.com%2fth%2fid%2fR.9518c2d3a87645c910f76130e5a36bc8%3frik%3d4iaBp0BMFQBrdA%26riu%3dhttp%253a%252f%252fsawadacoffee.com%252fwp-content%252fuploads%252f11DEC2015008.jpg%26ehk%3dTdMnmQ8MfnF6hBEvjfsTdeveefLiN76ZI8L6W8bexY0%253d%26risl%3d%26pid%3dImgRaw%26r%3d0&exph=1067&expw=1600&q=coffee&simid=608009379830195978&FORM=IRPRST&ck=F254D17269AE47352B6D09AAA42F6739&selectedIndex=0&itb=0',\n",
              "  'title': 'Sawada Coffee | Food & Drink',\n",
              "  'size': '1600×1067',\n",
              "  'source': 'http://sawadacoffee.com/food/',\n",
              "  'domain': 'sawadacoffee.com',\n",
              "  'original': 'http://sawadacoffee.com/wp-content/uploads/11DEC2015008.jpg',\n",
              "  'description': 'coffee',\n",
              "  'position': 1},\n",
              " {'thumbnail': 'https://tse2.mm.bing.net/th/id/OIP.eLla7JjIL8t7ZClP1iwpewHaE8?w=163&h=180&c=7&r=0&o=5&pid=1.7',\n",
              "  'link': 'https://www.bing.com/images/search?view=detailV2&ccid=eLla7JjI&id=1CA8B49F8D3596307492AEEF5B0A117C70974176&thid=OIP.eLla7JjIL8t7ZClP1iwpewHaE8&mediaurl=https%3a%2f%2fimg1.wsimg.com%2fisteam%2fstock%2f81583&cdnurl=https%3a%2f%2fth.bing.com%2fth%2fid%2fR.78b95aec98c82fcb7b64294fd62c297b%3frik%3ddkGXcHwRClvvrg%26pid%3dImgRaw%26r%3d0&exph=1440&expw=2160&q=coffee&simid=608047798281119435&FORM=IRPRST&ck=0184435E120839C3775D5BD402ED07FA&selectedIndex=1&itb=0',\n",
              "  'title': 'Specialty Coffee, Coffee Roaster - Be Known Coffee Company',\n",
              "  'size': '2160×1440',\n",
              "  'source': 'https://beknowncoffee.com/',\n",
              "  'domain': 'beknowncoffee.com',\n",
              "  'original': 'https://img1.wsimg.com/isteam/stock/81583',\n",
              "  'position': 2},\n",
              " {'thumbnail': 'https://tse2.mm.bing.net/th/id/OIP.D54P-qvblMRZaexsJy3_wQHaEK?w=202&h=180&c=7&r=0&o=5&pid=1.7',\n",
              "  'link': 'https://www.bing.com/images/search?view=detailV2&ccid=D54P%2bqvb&id=8C3874E309660311BA11AE4A9838C3290682D755&thid=OIP.D54P-qvblMRZaexsJy3_wQHaEK&mediaurl=https%3a%2f%2fwallsdesk.com%2fwp-content%2fuploads%2f2016%2f10%2fCoffee-Pictures.jpg&cdnurl=https%3a%2f%2fth.bing.com%2fth%2fid%2fR.0f9e0ffaabdb94c45969ec6c272dffc1%3frik%3dVdeCBinDOJhKrg%26pid%3dImgRaw%26r%3d0&exph=1440&expw=2560&q=coffee&simid=608012729839790333&FORM=IRPRST&ck=B28531150EDFB4E1A3BBB53D83D95175&selectedIndex=2&itb=0',\n",
              "  'title': 'Coffee Wallpapers Images Photos Pictures Backgrounds',\n",
              "  'size': '2560×1440',\n",
              "  'source': 'http://wallsdesk.com/coffee-45026/',\n",
              "  'domain': 'wallsdesk.com',\n",
              "  'original': 'https://wallsdesk.com/wp-content/uploads/2016/10/Coffee-Pictures.jpg',\n",
              "  'description': 'coffee 1001 views',\n",
              "  'position': 3},\n",
              " {'thumbnail': 'https://tse1.mm.bing.net/th/id/OIP.s_yZRCPt5Hu4-AqIVm9xkgHaHa?w=159&h=180&c=7&r=0&o=5&pid=1.7',\n",
              "  'link': 'https://www.bing.com/images/search?view=detailV2&ccid=s%2fyZRCPt&id=F8C36A843ED082E0739ACD56D3DAFD5820360CB9&thid=OIP.s_yZRCPt5Hu4-AqIVm9xkgHaHa&mediaurl=https%3a%2f%2fth.bing.com%2fth%2fid%2fR.b3fc994423ede47bb8f80a88566f7192%3frik%3duQw2IFj92tNWzQ%26riu%3dhttp%253a%252f%252fimages6.fanpop.com%252fimage%252fphotos%252f38100000%252f-Coffee-coffee-38186582-2048-2048.jpg%26ehk%3dvqe1bhPSFlAw3BK5Twlx4BH4MyL4UjeGyqxcPStn0So%253d%26risl%3d%26pid%3dImgRaw%26r%3d0&exph=2048&expw=2048&q=coffee&simid=608056250751214906&FORM=IRPRST&ck=0CFF9F29FBA8AD777ACC7D4486555D31&selectedIndex=3&itb=0',\n",
              "  'title': 'Coffee ★ - Coffee Photo (38186582) - Fanpop',\n",
              "  'size': '2048×2048',\n",
              "  'source': 'http://www.fanpop.com/clubs/coffee/images/38186582/title/coffee-photo',\n",
              "  'domain': 'fanpop.com',\n",
              "  'source_logo': 'https://tse3.mm.bing.net/th/id/ODF.he6jejsdpcItaYot6j2muw?w=12&h=12&c=7&rs=1&p=0&pid=1.7',\n",
              "  'original': 'http://images6.fanpop.com/image/photos/38100000/-Coffee-coffee-38186582-2048-2048.jpg',\n",
              "  'description': 'coffee fanpop types good use',\n",
              "  'position': 4},\n",
              " {'thumbnail': 'https://tse3.mm.bing.net/th/id/OIP.q58SjR5s701qA5MKs_rjGAHaHa?w=159&h=180&c=7&r=0&o=5&pid=1.7',\n",
              "  'link': 'https://www.bing.com/images/search?view=detailV2&ccid=q58SjR5s&id=4AB20C68DEDBFD2325F42864662DAFC239DFFE19&thid=OIP.q58SjR5s701qA5MKs_rjGAHaHa&mediaurl=https%3a%2f%2fth.bing.com%2fth%2fid%2fR.ab9f128d1e6cef4d6a03930ab3fae318%3frik%3dGf7fOcKvLWZkKA%26riu%3dhttp%253a%252f%252fimages6.fanpop.com%252fimage%252fphotos%252f37900000%252f-Coffee-coffee-37966921-2048-2048.jpg%26ehk%3dYE%252f2X5lwqgHb66HH8Nk64%252fe2pFbM989YlOnpHnRPM0Y%253d%26risl%3d%26pid%3dImgRaw%26r%3d0&exph=2048&expw=2048&q=coffee&simid=607995103300562199&FORM=IRPRST&ck=328504431328464AC0CFB5111726D0C4&selectedIndex=4&itb=0',\n",
              "  'title': 'Coffee - Coffee Photo (37966921) - Fanpop',\n",
              "  'size': '2048×2048',\n",
              "  'source': 'http://www.fanpop.com/clubs/coffee/images/37966921/title/coffee-photo',\n",
              "  'domain': 'fanpop.com',\n",
              "  'source_logo': 'https://tse3.mm.bing.net/th/id/ODF.he6jejsdpcItaYot6j2muw?w=12&h=12&c=7&rs=1&p=0&pid=1.7',\n",
              "  'original': 'http://images6.fanpop.com/image/photos/37900000/-Coffee-coffee-37966921-2048-2048.jpg',\n",
              "  'description': 'coffee fanpop',\n",
              "  'position': 5},\n",
              " {'thumbnail': 'https://tse4.mm.bing.net/th/id/OIP.c_-oalhc2f1-OLYHUQ8J5wHaE7?w=239&h=180&c=7&r=0&o=5&pid=1.7',\n",
              "  'link': 'https://www.bing.com/images/search?view=detailV2&ccid=c%2f%2boalhc&id=A9AF3C70E0C12FD081861FD5AE32DF7F6AF5E0FD&thid=OIP.c_-oalhc2f1-OLYHUQ8J5wHaE7&mediaurl=https%3a%2f%2fth.bing.com%2fth%2fid%2fR.73ffa86a585cd9fd7e38b607510f09e7%3frik%3d%252feD1an%252ffMq7VHw%26riu%3dhttp%253a%252f%252fimages4.fanpop.com%252fimage%252fphotos%252f19700000%252fCoffee-D-coffee-19768934-1519-1012.jpg%26ehk%3djYuDMZjNSEcSuVJucMaq3qDTIvKA99ov0wwyMLiShRU%253d%26risl%3d%26pid%3dImgRaw%26r%3d0&exph=1012&expw=1519&q=coffee&simid=608053742483088063&FORM=IRPRST&ck=80DA43AECFF369DD60C50C937B5645BF&selectedIndex=5&itb=0',\n",
              "  'title': 'Coffee :D - Coffee Photo (19768934) - Fanpop',\n",
              "  'size': '1519×1012',\n",
              "  'source': 'http://www.fanpop.com/clubs/coffee/images/19768934/title/coffee-d-photo',\n",
              "  'domain': 'fanpop.com',\n",
              "  'source_logo': 'https://tse3.mm.bing.net/th/id/ODF.he6jejsdpcItaYot6j2muw?w=12&h=12&c=7&rs=1&p=0&pid=1.7',\n",
              "  'original': 'http://images4.fanpop.com/image/photos/19700000/Coffee-D-coffee-19768934-1519-1012.jpg',\n",
              "  'description': 'coffee fanpop cocoa beans interesting facts chocolate familiar less flavored delicious day clarkson improve demonstrates focus study university break black',\n",
              "  'position': 6},\n",
              " {'thumbnail': 'https://tse4.mm.bing.net/th/id/OIP.-ACVKbQLg-aRb2bVxy1jfAHaE8?w=240&h=180&c=7&r=0&o=5&pid=1.7',\n",
              "  'link': 'https://www.bing.com/images/search?view=detailV2&ccid=%2bACVKbQL&id=DE4EC09188CF8FFED3EAA5B08475E79A9A2D543C&thid=OIP.-ACVKbQLg-aRb2bVxy1jfAHaE8&mediaurl=https%3a%2f%2fimages.freeimages.com%2fimages%2flarge-previews%2fbc0%2fcoffee-1317648.jpg&cdnurl=https%3a%2f%2fth.bing.com%2fth%2fid%2fR.f8009529b40b83e6916f66d5c72d637c%3frik%3dPFQtmprndYSwpQ%26pid%3dImgRaw%26r%3d0&exph=1066&expw=1599&q=coffee&simid=608007142094043911&FORM=IRPRST&ck=6F3499D4295E8F6BBBA97DE03A98FDB4&selectedIndex=6&itb=0',\n",
              "  'title': 'Free coffee Stock Photo - FreeImages.com',\n",
              "  'size': '1599×1066',\n",
              "  'source': 'http://www.freeimages.com/photo/coffee-1317648',\n",
              "  'domain': 'freeimages.com',\n",
              "  'original': 'https://images.freeimages.com/images/large-previews/bc0/coffee-1317648.jpg',\n",
              "  'description': 'freeimages',\n",
              "  'position': 7},\n",
              " {'thumbnail': 'https://tse4.mm.bing.net/th/id/OIP.wwvv6banly2PNAUJ5c8NOwHaFb?w=179&h=180&c=7&r=0&o=5&pid=1.7',\n",
              "  'link': 'https://www.bing.com/images/search?view=detailV2&ccid=wwvv6ban&id=FAAF861AF27ECFFC7A1CCA655049424B1BAC1413&thid=OIP.wwvv6banly2PNAUJ5c8NOwHaFb&mediaurl=https%3a%2f%2fwww.eatthis.com%2fwp-content%2fuploads%2fsites%2f4%2f2022%2f07%2fblack-coffee-wooden-table.jpg%3fquality%3d82%26strip%3d1%26w%3d1920&cdnurl=https%3a%2f%2fth.bing.com%2fth%2fid%2fR.c30befe9b6a7972d8f340509e5cf0d3b%3frik%3dExSsG0tCSVBlyg%26pid%3dImgRaw%26r%3d0&exph=879&expw=1200&q=coffee&simid=608009457088741529&FORM=IRPRST&ck=1A56DD1622EA9BFA34C56E42BE440812&selectedIndex=7&itb=0',\n",
              "  'title': '12 Discontinued Coffee Brands and Blends That Everyone Still Misses ...',\n",
              "  'size': '1200×879',\n",
              "  'source': 'https://www.eatthis.com/discontinued-coffee-brands/',\n",
              "  'domain': 'eatthis.com',\n",
              "  'original': 'https://www.eatthis.com/wp-content/uploads/sites/4/2022/07/black-coffee-wooden-table.jpg?quality=82&strip=1&w=1920',\n",
              "  'position': 8},\n",
              " {'thumbnail': 'https://tse4.mm.bing.net/th/id/OIP.GzZF5F-EmWqiXoXAEQMSugHaE7?w=236&h=180&c=7&r=0&o=5&pid=1.7',\n",
              "  'link': 'https://www.bing.com/images/search?view=detailV2&ccid=GzZF5F%2bE&id=81E971DE05A53516D6E4BE5B3E0190F84FCBCAEF&thid=OIP.GzZF5F-EmWqiXoXAEQMSugHaE7&mediaurl=https%3a%2f%2frightsizelife.com%2fwp-content%2fuploads%2f2020%2f03%2fcoffee-2589761_1280.jpg&cdnurl=https%3a%2f%2fth.bing.com%2fth%2fid%2fR.1b3645e45f84996aa25e85c0110312ba%3frik%3d78rLT%252fiQAT5bvg%26pid%3dImgRaw%26r%3d0&exph=853&expw=1280&q=coffee&simid=608030566855039291&FORM=IRPRST&ck=418956B983AD3100203358A71F66DCAC&selectedIndex=8&itb=0',\n",
              "  'title': 'Coffee Culture: Local Coffee Shops - Right Size Life',\n",
              "  'size': '1280×853',\n",
              "  'source': 'https://rightsizelife.com/local-coffee-shops-coffee-culture/',\n",
              "  'domain': 'rightsizelife.com',\n",
              "  'original': 'https://rightsizelife.com/wp-content/uploads/2020/03/coffee-2589761_1280.jpg',\n",
              "  'description': 'coffee shops culture local have hold warmth morning every want need long',\n",
              "  'position': 9},\n",
              " {'thumbnail': 'https://tse1.mm.bing.net/th/id/OIP.VFFwr8Tyi_mj6_F2S_zPvQHaE7?w=236&h=180&c=7&r=0&o=5&pid=1.7',\n",
              "  'link': 'https://www.bing.com/images/search?view=detailV2&ccid=VFFwr8Ty&id=365AAC6616D502792C07848B52460D2F2914646C&thid=OIP.VFFwr8Tyi_mj6_F2S_zPvQHaE7&mediaurl=https%3a%2f%2fcdn.greaterzion.com%2fwp-content%2fuploads%2f2019%2f03%2f20174110%2fcoffee-shops.jpg&cdnurl=https%3a%2f%2fth.bing.com%2fth%2fid%2fR.545170afc4f28bf9a3ebf1764bfccfbd%3frik%3dbGQUKS8NRlKLhA%26pid%3dImgRaw%26r%3d0&exph=1334&expw=2002&q=coffee&simid=607996688144598558&FORM=IRPRST&ck=4B9C544D57016D8F57C954A7A574DEDB&selectedIndex=9&itb=0',\n",
              "  'title': 'The Best Local Coffee Shops in St. George Utah – Greater Zion Cuisine',\n",
              "  'size': '2002×1334',\n",
              "  'source': 'https://greaterzion.com/cuisine/coffee-shop/',\n",
              "  'domain': 'greaterzion.com',\n",
              "  'original': 'https://cdn.greaterzion.com/wp-content/uploads/2019/03/20174110/coffee-shops.jpg',\n",
              "  'position': 10},\n",
              " {'thumbnail': 'https://tse3.mm.bing.net/th/id/OIP.UqWZ--PcdNzd9w_8qGU43QHaE6?w=239&h=180&c=7&r=0&o=5&pid=1.7',\n",
              "  'link': 'https://www.bing.com/images/search?view=detailV2&ccid=UqWZ%2b%2bPc&id=B673BEB25B5C2F1A37F24C8CF530569671EB1B99&thid=OIP.UqWZ--PcdNzd9w_8qGU43QHaE6&mediaurl=https%3a%2f%2fassets.simpleviewinc.com%2fsimpleview%2fimage%2fupload%2fc_limit%2ch_1200%2cq_75%2cw_1200%2fv1%2fclients%2fchattanooga%2fDin_Rembrandt_s_Coffee_House_e983fb22-d16e-485f-ab36-31a4e3915b74.jpg&cdnurl=https%3a%2f%2fth.bing.com%2fth%2fid%2fR.52a599fbe3dc74dcddf70ffca86538dd%3frik%3dmRvrcZZWMPWMTA%26pid%3dImgRaw%26r%3d0&exph=795&expw=1200&q=coffee&simid=608036193254249565&FORM=IRPRST&ck=26DBAA198D3040704ED6CD75A20A1181&selectedIndex=10&itb=0',\n",
              "  'title': 'Grab Your Coffee, Explore Chattanooga',\n",
              "  'size': '1200×795',\n",
              "  'source': 'https://www.visitchattanooga.com/blog/post/coffee/',\n",
              "  'domain': 'visitchattanooga.com',\n",
              "  'original': 'https://assets.simpleviewinc.com/simpleview/image/upload/c_limit,h_1200,q_75,w_1200/v1/clients/chattanooga/Din_Rembrandt_s_Coffee_House_e983fb22-d16e-485f-ab36-31a4e3915b74.jpg',\n",
              "  'position': 11},\n",
              " {'thumbnail': 'https://ts2.mm.bing.net/th?id=OIP.TF0hCw21sfHLHQYOalZtYwHaEa&pid=15.1',\n",
              "  'link': 'https://www.bing.com/images/search?q=coffee+art&FORM=IVCLTL',\n",
              "  'original': 'http://www.fubiz.net/wp-content/uploads/2013/04/Coffee-Art-Portraiture5.jpg',\n",
              "  'position': 12},\n",
              " {'thumbnail': 'https://ts2.mm.bing.net/th?id=OIP.TF0hCw21sfHLHQYOalZtYwHaEa&pid=15.1',\n",
              "  'link': 'https://www.bing.com/images/search?view=detailV2&id=B198B6441C1BA88B9CEBBA772D8DAE7A1C0C0D8E&thid=OIP.TF0hCw21sfHLHQYOalZtYwHaEa&mediaurl=http%3a%2f%2fwww.fubiz.net%2fwp-content%2fuploads%2f2013%2f04%2fCoffee-Art-Portraiture5.jpg&exph=1056&expw=1774&q=coffee+art&simid=608008039768865657&ck=7141993ECB85E3D7E9ABC40BE3490B57&itb=0&FORM=IVCLIG',\n",
              "  'original': 'http://www.fubiz.net/wp-content/uploads/2013/04/Coffee-Art-Portraiture5.jpg',\n",
              "  'position': 13},\n",
              " {'thumbnail': 'https://ts4.mm.bing.net/th?id=OIP.o5dTcnFiwbpw3X1SCSlRcAHaE7&pid=15.1',\n",
              "  'link': 'https://www.bing.com/images/search?view=detailV2&id=557CD5E92D754210A6CA0B319C177A238F00800F&thid=OIP.o5dTcnFiwbpw3X1SCSlRcAHaE7&mediaurl=https%3a%2f%2fbettercoffeemakers.com%2fwp-content%2fuploads%2f2017%2f12%2fcoffee-art.jpg&exph=426&expw=640&q=coffee+art&simid=608016913155162619&ck=9DC2E9848DFCFBDE54C2551FDC673C57&itb=0&FORM=IVCLIG',\n",
              "  'original': 'https://bettercoffeemakers.com/wp-content/uploads/2017/12/coffee-art.jpg',\n",
              "  'position': 14},\n",
              " {'thumbnail': 'https://ts2.mm.bing.net/th?id=OIP.MagYWTWpMhUewulHT3AAQAHaJ4&pid=15.1',\n",
              "  'link': 'https://www.bing.com/images/search?view=detailV2&id=6ADDEA46F14699C334BCD0068A6F727346C5F426&thid=OIP.MagYWTWpMhUewulHT3AAQAHaJ4&mediaurl=https%3a%2f%2fcdn.pixabay.com%2fphoto%2f2018%2f07%2f27%2f15%2f36%2fcoffee-art-3566295_1280.jpg&exph=1280&expw=960&q=coffee+art&simid=608027951225899065&ck=3963B255E8FF2536D5DD7EC484B6AB12&itb=0&FORM=IVCLIG',\n",
              "  'original': 'https://cdn.pixabay.com/photo/2018/07/27/15/36/coffee-art-3566295_1280.jpg',\n",
              "  'position': 15},\n",
              " {'thumbnail': 'https://ts2.mm.bing.net/th?id=OIP.Ymy_ttcGawOCZxqPkWATNQHaMF&pid=15.1',\n",
              "  'link': 'https://www.bing.com/images/search?view=detailV2&id=330BFA8BB4FE4E85DD3585DA737A32B2F65B3082&thid=OIP.Ymy_ttcGawOCZxqPkWATNQHaMF&mediaurl=https%3a%2f%2fstatic.wixstatic.com%2fmedia%2f5c833e_b1129e5eccc64c25ac4f42b6fcd8459f%7emv2.jpg%2fv1%2ffill%2fw_2500%2ch_4081%2cal_c%2f5c833e_b1129e5eccc64c25ac4f42b6fcd8459f%7emv2.jpg&exph=4081&expw=2500&q=coffee+art&simid=608031988501324869&ck=F29DA66BE794D9DF24EBB3D59F1F80EE&itb=0&FORM=IVCLIG',\n",
              "  'original': 'https://static.wixstatic.com/media/5c833e_b1129e5eccc64c25ac4f42b6fcd8459f~mv2.jpg/v1/fill/w_2500,h_4081,al_c/5c833e_b1129e5eccc64c25ac4f42b6fcd8459f~mv2.jpg',\n",
              "  'position': 16},\n",
              " {'thumbnail': 'https://ts2.mm.bing.net/th?id=OIP.ZF5Z2Rq3O69iEOaCD6eriQHaD3&pid=15.1',\n",
              "  'link': 'https://www.bing.com/images/search?view=detailV2&id=DFD85DBB45BD85E6FB862C5F9209D3C80BADE773&thid=OIP.ZF5Z2Rq3O69iEOaCD6eriQHaD3&mediaurl=https%3a%2f%2fimages.pexels.com%2fphotos%2f18380556%2fpexels-photo-18380556.jpeg%3fauto%3dcompress%26cs%3dtinysrgb%26h%3d627%26fit%3dcrop%26w%3d1200&exph=627&expw=1200&q=coffee+art&simid=608042476784784105&ck=9A3673433B5FD0BB6F3D8E174B1E26B8&itb=0&FORM=IVCLIG',\n",
              "  'original': 'https://images.pexels.com/photos/18380556/pexels-photo-18380556.jpeg?auto=compress&cs=tinysrgb&h=627&fit=crop&w=1200',\n",
              "  'position': 17},\n",
              " {'thumbnail': 'https://ts4.mm.bing.net/th?id=OIP.rG0lLw8q8htzXekldRcTKQHaEo&pid=15.1',\n",
              "  'link': 'https://www.bing.com/images/search?view=detailV2&id=71D2115F5B460C92B0476BDFA3C6BEB7E10282F7&thid=OIP.rG0lLw8q8htzXekldRcTKQHaEo&mediaurl=https%3a%2f%2fcdn.suwalls.com%2fwallpapers%2fphotography%2fcoffee-art-34269-1920x1200.jpg&exph=1200&expw=1920&q=coffee+art&simid=608031820949050747&ck=889BA2EB6E6478894E89A860F67CC157&itb=0&FORM=IVCLIG',\n",
              "  'original': 'https://cdn.suwalls.com/wallpapers/photography/coffee-art-34269-1920x1200.jpg',\n",
              "  'position': 18},\n",
              " {'thumbnail': 'https://ts1.mm.bing.net/th?id=OIP.749WxZvFm_exCx_oZ4fTxgHaFj&pid=15.1',\n",
              "  'link': 'https://www.bing.com/images/search?view=detailV2&id=80E0611659A899626FA6EAB67A9904CCFC3F2E79&thid=OIP.749WxZvFm_exCx_oZ4fTxgHaFj&mediaurl=http%3a%2f%2fsteve.rogueleaf.com%2fwp-content%2fuploads%2f2014%2f09%2fIMG_7968-0.jpg&exph=1536&expw=2048&q=coffee+art&simid=608049262858492040&ck=5C999B469B8C227D58A00D7E8A1BE188&itb=0&FORM=IVCLIG',\n",
              "  'original': 'http://steve.rogueleaf.com/wp-content/uploads/2014/09/IMG_7968-0.jpg',\n",
              "  'position': 19},\n",
              " {'thumbnail': 'https://ts2.mm.bing.net/th?id=OIP.dDtdjDI1ScEEcqPBgfJbwAHaHa&pid=15.1',\n",
              "  'link': 'https://www.bing.com/images/search?view=detailV2&id=7EEAE114AD7A62603397EED1084A4306E075EFEB&thid=OIP.dDtdjDI1ScEEcqPBgfJbwAHaHa&mediaurl=https%3a%2f%2fimages.pexels.com%2fphotos%2f3646111%2fpexels-photo-3646111.jpeg%3fcs%3dsrgb%26dl%3dpexels-olenkabohovyk-3646111.jpg%26fm%3djpg&exph=3610&expw=3610&q=coffee+art&simid=608042266313241041&ck=84337306276E7C11F08EE68C183054E9&itb=0&FORM=IVCLIG',\n",
              "  'original': 'https://images.pexels.com/photos/3646111/pexels-photo-3646111.jpeg?cs=srgb&dl=pexels-olenkabohovyk-3646111.jpg&fm=jpg',\n",
              "  'position': 20},\n",
              " {'thumbnail': 'https://ts3.explicit.bing.net/th?id=OIP.rO3URjFD7GCVMI_rkawuTAHaK_&pid=15.1',\n",
              "  'link': 'https://www.bing.com/images/search?view=detailV2&id=7EEAE114AD7A62603397ABFC376558AAAD11A831&thid=OIP.rO3URjFD7GCVMI_rkawuTAHaK_&mediaurl=https%3a%2f%2fimages.pexels.com%2fphotos%2f8106476%2fpexels-photo-8106476.jpeg%3fcs%3dsrgb%26dl%3dpexels-solodsha-8106476.jpg%26fm%3djpg&exph=2437&expw=1643&q=coffee+art&simid=607999552903984442&ck=FAC530159D33B37CC3987171915831D5&itb=0&FORM=IVCLIG',\n",
              "  'original': 'https://images.pexels.com/photos/8106476/pexels-photo-8106476.jpeg?cs=srgb&dl=pexels-solodsha-8106476.jpg&fm=jpg',\n",
              "  'position': 21},\n",
              " {'thumbnail': 'https://ts3.mm.bing.net/th?id=OIP.j5e7Lkcaj7mAKXXQxehdlwHaJ3&pid=15.1',\n",
              "  'link': 'https://www.bing.com/images/search?view=detailV2&id=7EEAE114AD7A626033971FAE75DE0AC48422CC87&thid=OIP.j5e7Lkcaj7mAKXXQxehdlwHaJ3&mediaurl=https%3a%2f%2fimages.pexels.com%2fphotos%2f9009921%2fpexels-photo-9009921.jpeg%3fcs%3dsrgb%26dl%3dpexels-solodsha-9009921.jpg%26fm%3djpg&exph=3669&expw=2752&q=coffee+art&simid=607998174249156846&ck=E0B1042945F01CD4E730CF93A488983C&itb=0&FORM=IVCLIG',\n",
              "  'original': 'https://images.pexels.com/photos/9009921/pexels-photo-9009921.jpeg?cs=srgb&dl=pexels-solodsha-9009921.jpg&fm=jpg',\n",
              "  'position': 22},\n",
              " {'thumbnail': 'https://ts4.mm.bing.net/th?id=OIP.APTaCpb0UN9AfrVy5KyGUAHaJ4&pid=15.1',\n",
              "  'link': 'https://www.bing.com/images/search?view=detailV2&id=7EEAE114AD7A626033971094FBF901D3898C0D63&thid=OIP.APTaCpb0UN9AfrVy5KyGUAHaJ4&mediaurl=https%3a%2f%2fimages.pexels.com%2fphotos%2f15325396%2fpexels-photo-15325396.jpeg%3fcs%3dsrgb%26dl%3dpexels-maria-loznevaya-15325396.jpg%26fm%3djpg&exph=2731&expw=2048&q=coffee+art&simid=608023647665609599&ck=92248AB3460476B8612D427D2BB17AB2&itb=0&FORM=IVCLIG',\n",
              "  'original': 'https://images.pexels.com/photos/15325396/pexels-photo-15325396.jpeg?cs=srgb&dl=pexels-maria-loznevaya-15325396.jpg&fm=jpg',\n",
              "  'position': 23},\n",
              " {'thumbnail': 'https://ts2.mm.bing.net/th?id=OIP.ImPwrOabKzxspZD_4cQF3QHaJg&pid=15.1',\n",
              "  'link': 'https://www.bing.com/images/search?view=detailV2&id=7EEAE114AD7A62603397280E861E6C1A1EFF1DE5&thid=OIP.ImPwrOabKzxspZD_4cQF3QHaJg&mediaurl=https%3a%2f%2fimages.pexels.com%2fphotos%2f9009926%2fpexels-photo-9009926.jpeg%3fcs%3dsrgb%26dl%3dpexels-solodsha-9009926.jpg%26fm%3djpg&exph=3588&expw=2795&q=coffee+art&simid=608040642831739689&ck=EF1B8F82E5E20B547778B335B1086D9F&itb=0&FORM=IVCLIG',\n",
              "  'original': 'https://images.pexels.com/photos/9009926/pexels-photo-9009926.jpeg?cs=srgb&dl=pexels-solodsha-9009926.jpg&fm=jpg',\n",
              "  'position': 24},\n",
              " {'thumbnail': 'https://ts4.mm.bing.net/th?id=OIP.XHm2dS3DZP0pSZr7leN5CQHaFj&pid=15.1',\n",
              "  'link': 'https://www.bing.com/images/search?view=detailV2&id=870A75BF452CBA1EA50855EAEDA48CAABE3B65FA&thid=OIP.XHm2dS3DZP0pSZr7leN5CQHaFj&mediaurl=https%3a%2f%2fsodelicious.recipes%2fwp-content%2fuploads%2f2019%2f05%2fcoffee-recipes-e1557224949264.jpg&exph=768&expw=1025&q=coffee+recipes&simid=608041196897245519&ck=F323A3C6608415086755EB6A10E659A1&itb=0&FORM=IVCLIG',\n",
              "  'original': 'https://sodelicious.recipes/wp-content/uploads/2019/05/coffee-recipes-e1557224949264.jpg',\n",
              "  'position': 25},\n",
              " {'thumbnail': 'https://ts2.mm.bing.net/th?id=OIP.tRwYY2Hj9q3o12x1DZrqtgHaEK&pid=15.1',\n",
              "  'link': 'https://www.bing.com/images/search?view=detailV2&id=EB767789D24EAD9240E89316FDB29C9853158B54&thid=OIP.tRwYY2Hj9q3o12x1DZrqtgHaEK&mediaurl=https%3a%2f%2fdiyjoy.com%2fwp-content%2fuploads%2f2018%2f03%2f50-best-recipes-for-coffee-ft-1.jpg&exph=540&expw=960&q=coffee+recipes&simid=608000884309564253&ck=59D9D09D21F1E78B3DB510AAE6DABAC3&itb=0&FORM=IVCLIG',\n",
              "  'original': 'https://diyjoy.com/wp-content/uploads/2018/03/50-best-recipes-for-coffee-ft-1.jpg',\n",
              "  'position': 26},\n",
              " {'thumbnail': 'https://ts1.mm.bing.net/th?id=OIP.OgILo5H1d9DacM7bAt_W9AAAAA&pid=15.1',\n",
              "  'link': 'https://www.bing.com/images/search?view=detailV2&id=E2A4DB430FDCE47BE80D125048CF5A64660EF415&thid=OIP.OgILo5H1d9DacM7bAt_W9AAAAA&mediaurl=https%3a%2f%2finsanelygoodrecipes.com%2fwp-content%2fuploads%2f2021%2f08%2fCoffee-Recipes-750x1125.jpg&exph=711&expw=474&q=coffee+recipes&simid=608044761722655948&ck=D257A70DD0D8658D33A6FD214AE8DB42&itb=0&FORM=IVCLIG',\n",
              "  'original': 'https://insanelygoodrecipes.com/wp-content/uploads/2021/08/Coffee-Recipes-750x1125.jpg',\n",
              "  'position': 27},\n",
              " {'thumbnail': 'https://ts3.mm.bing.net/th?id=OIP.-nPiCBJQKpDsMsRRxCV3oAHaLH&pid=15.1',\n",
              "  'link': 'https://www.bing.com/images/search?view=detailV2&id=21E5A47D6BD31A0E959469D02314EA0B7B2104B7&thid=OIP.-nPiCBJQKpDsMsRRxCV3oAHaLH&mediaurl=https%3a%2f%2ffoodiosity.com%2fwp-content%2fuploads%2f2023%2f09%2f22-coffee-recipes-1.jpg&exph=1500&expw=1000&q=coffee+recipes&simid=608013043372603022&ck=4C8A7DE321E1D65252467412B70E042B&itb=0&FORM=IVCLIG',\n",
              "  'original': 'https://foodiosity.com/wp-content/uploads/2023/09/22-coffee-recipes-1.jpg',\n",
              "  'position': 28},\n",
              " {'thumbnail': 'https://ts3.mm.bing.net/th?id=OIP.TQohHLL-f3b098E70a8h-AHaE8&pid=15.1',\n",
              "  'link': 'https://www.bing.com/images/search?view=detailV2&id=E3FE2978DD251BB15C7F3079DC64D40A4C081E39&thid=OIP.TQohHLL-f3b098E70a8h-AHaE8&mediaurl=https%3a%2f%2fwww.bestcoffeerecipes.com%2fwp-content%2fuploads%2f2020%2f06%2fiStock-1144262014.jpg&exph=837&expw=1254&q=coffee+recipes&simid=608027139464774450&ck=6E57B636E152D89ED3F7B5826E13FDE1&itb=0&FORM=IVCLIG',\n",
              "  'original': 'https://www.bestcoffeerecipes.com/wp-content/uploads/2020/06/iStock-1144262014.jpg',\n",
              "  'position': 29},\n",
              " {'thumbnail': 'https://ts3.mm.bing.net/th?id=OIP.NvkYyFdmQsHdu78KKfyBrQHaHy&pid=15.1',\n",
              "  'link': 'https://www.bing.com/images/search?view=detailV2&id=C045D31B1AD9959A4A4300B524EE0354DFB322D3&thid=OIP.NvkYyFdmQsHdu78KKfyBrQHaHy&mediaurl=https%3a%2f%2fas2.ftcdn.net%2fv2%2fjpg%2f01%2f00%2f78%2f11%2f1000_F_100781106_QNkDyBl6dmWQmu6lnoicaQU6arMWsw78.jpg&exph=1000&expw=951&q=coffee+recipes&simid=608007090523213430&ck=A73315D43AB5992C07096DA1DB636313&itb=0&FORM=IVCLIG',\n",
              "  'original': 'https://as2.ftcdn.net/v2/jpg/01/00/78/11/1000_F_100781106_QNkDyBl6dmWQmu6lnoicaQU6arMWsw78.jpg',\n",
              "  'position': 30},\n",
              " {'thumbnail': 'https://ts4.explicit.bing.net/th?id=OIP.OsAin-C1bmm3XH9CDpCQAgHaFb&pid=15.1',\n",
              "  'link': 'https://www.bing.com/images/search?view=detailV2&id=13C0DBA35B445FD1912F27C2B078088F2C3D3451&thid=OIP.OsAin-C1bmm3XH9CDpCQAgHaFb&mediaurl=https%3a%2f%2fwww.eatthis.com%2fwp-content%2fuploads%2fsites%2f4%2f2016%2f07%2fbrownie-with-coffee.jpg%3fquality%3d82%26strip%3dall&exph=879&expw=1200&q=coffee+recipes&simid=608011643256319431&ck=EB75113524764C1BCD664090D5EDE929&itb=0&FORM=IVCLIG',\n",
              "  'original': 'https://www.eatthis.com/wp-content/uploads/sites/4/2016/07/brownie-with-coffee.jpg?quality=82&strip=all',\n",
              "  'position': 31},\n",
              " {'thumbnail': 'https://ts3.explicit.bing.net/th?id=OIP.jFeN2T-RmwfQiwjrPVsx-gHaLH&pid=15.1',\n",
              "  'link': 'https://www.bing.com/images/search?view=detailV2&id=054264B20B31B880895EB009B23D33CB0D520CA1&thid=OIP.jFeN2T-RmwfQiwjrPVsx-gHaLH&mediaurl=https%3a%2f%2ftemeculablogs.com%2fwp-content%2fuploads%2f2016%2f08%2fCoffeeRecipes.jpg&exph=900&expw=600&q=coffee+recipes&simid=608051010869016698&ck=CBB2DBD08F69D101B0020D3D457FD942&itb=0&FORM=IVCLIG',\n",
              "  'original': 'https://temeculablogs.com/wp-content/uploads/2016/08/CoffeeRecipes.jpg',\n",
              "  'position': 32},\n",
              " {'thumbnail': 'https://ts4.mm.bing.net/th?id=OIP.BzHwHiH1IVV34qn2bzzSqgHaKl&pid=15.1',\n",
              "  'link': 'https://www.bing.com/images/search?view=detailV2&id=3E39D7536CA6AB142E60027B4FD059D379B2DA5E&thid=OIP.BzHwHiH1IVV34qn2bzzSqgHaKl&mediaurl=https%3a%2f%2fwww.trippinwithtara.com%2fwp-content%2fuploads%2f17-coffee-recipes.jpg&exph=1000&expw=700&q=coffee+recipes&simid=607993703199287451&ck=D170405961772C102C029674200467A1&itb=0&FORM=IVCLIG',\n",
              "  'original': 'https://www.trippinwithtara.com/wp-content/uploads/17-coffee-recipes.jpg',\n",
              "  'position': 33},\n",
              " {'thumbnail': 'https://ts3.explicit.bing.net/th?id=OIP.ylSxaM64u4LHNLwViLoFHgHaFj&pid=15.1',\n",
              "  'link': 'https://www.bing.com/images/search?view=detailV2&id=924F58841000332FE4D93E16D7B24113A61D56B6&thid=OIP.ylSxaM64u4LHNLwViLoFHgHaFj&mediaurl=https%3a%2f%2fwww.delishknowledge.com%2fwp-content%2fuploads%2fshutterstock_2109605252-e1695985296452.jpg&exph=1351&expw=1800&q=coffee+recipes&simid=608046711631400822&ck=3274B360FA73093B7DB6CA684D8E92A7&itb=0&FORM=IVCLIG',\n",
              "  'original': 'https://www.delishknowledge.com/wp-content/uploads/shutterstock_2109605252-e1695985296452.jpg',\n",
              "  'position': 34},\n",
              " {'thumbnail': 'https://ts3.mm.bing.net/th?id=OIP.LntKnbd4VD3l9L1CvIioFQHaE8&pid=15.1',\n",
              "  'link': 'https://www.bing.com/images/search?view=detailV2&id=FA8A6B16ED613312A5BFD94AD49AB3201E3848DA&thid=OIP.LntKnbd4VD3l9L1CvIioFQHaE8&mediaurl=https%3a%2f%2ffbcd.co%2fimages%2fproducts%2f077a1c42f22798cbdb1a45cc159065ed_resize.jpg&exph=1000&expw=1500&q=coffee+recipes&simid=607995549966470246&ck=B28B34DEB362D2BA2590C651F90394A2&itb=0&FORM=IVCLIG',\n",
              "  'original': 'https://fbcd.co/images/products/077a1c42f22798cbdb1a45cc159065ed_resize.jpg',\n",
              "  'position': 35},\n",
              " {'thumbnail': 'https://ts3.mm.bing.net/th?id=OIP.buHMOJqGrADYvS1SNCCUCgHaLH&pid=15.1',\n",
              "  'link': 'https://www.bing.com/images/search?view=detailV2&id=C62E41EAF785966B5127310F67EC025D5C5284A1&thid=OIP.buHMOJqGrADYvS1SNCCUCgHaLH&mediaurl=https%3a%2f%2fwww.thriftynorthwestmom.com%2fwp-content%2fuploads%2f2013%2f09%2f15-Coffee-Recipes-to-Make-at-Home-2.png&exph=1500&expw=1000&q=coffee+recipes&simid=607986144055008158&ck=DD027026E3AEDE70B6F33372F021664C&itb=0&FORM=IVCLIG',\n",
              "  'original': 'https://www.thriftynorthwestmom.com/wp-content/uploads/2013/09/15-Coffee-Recipes-to-Make-at-Home-2.png',\n",
              "  'position': 36},\n",
              " {'thumbnail': 'https://ts1.mm.bing.net/th?id=OIP.m8swkdSl_CtMe15oZdvRlwHaHa&pid=15.1',\n",
              "  'link': 'https://www.bing.com/images/search?view=detailV2&id=A003F3FC48DB0B892943B9B52B0636A35768CEA0&thid=OIP.m8swkdSl_CtMe15oZdvRlwHaHa&mediaurl=https%3a%2f%2fekzon.in%2fwp-content%2fuploads%2f2020%2f11%2fb41.jpg&exph=800&expw=800&q=coffee+machines&simid=608021869532440852&ck=B20AD681613834FFDDAADCD4A1185055&itb=0&FORM=IVCLIG',\n",
              "  'original': 'https://ekzon.in/wp-content/uploads/2020/11/b41.jpg',\n",
              "  'position': 37},\n",
              " {'thumbnail': 'https://ts2.mm.bing.net/th?id=OIP.38VKGyw5iV47aSUsUcK9qgHaGK&pid=15.1',\n",
              "  'link': 'https://www.bing.com/images/search?view=detailV2&id=E6D20BD5C1BC130618EC58D461BDC2D1CB2B51AC&thid=OIP.38VKGyw5iV47aSUsUcK9qgHaGK&mediaurl=https%3a%2f%2fanimo.eu%2fwp-content%2fuploads%2f2023%2f08%2fCombi-koffiezetapparaten-1536x1279.png&exph=1279&expw=1536&q=coffee+machines&simid=608027246889016001&ck=F058D2F2B3022CED670FAC96FF656103&itb=0&FORM=IVCLIG',\n",
              "  'original': 'https://animo.eu/wp-content/uploads/2023/08/Combi-koffiezetapparaten-1536x1279.png',\n",
              "  'position': 38},\n",
              " {'thumbnail': 'https://ts1.mm.bing.net/th?id=OIP.cInoqc5B7J9GVZqAq7GoMQHaLG&pid=15.1',\n",
              "  'link': 'https://www.bing.com/images/search?view=detailV2&id=B62FED1844C46D41FB8B7F8FB13D60D8F01E9320&thid=OIP.cInoqc5B7J9GVZqAq7GoMQHaLG&mediaurl=https%3a%2f%2fwww.professionalcoffeemachines.com%2fwp-content%2fuploads%2f2024%2f04%2fview-coffee-machine-scaled.jpg&exph=2560&expw=1707&q=coffee+machines&simid=608022810133689000&ck=69186E78139C0015546F8E799FCCAABC&itb=0&FORM=IVCLIG',\n",
              "  'original': 'https://www.professionalcoffeemachines.com/wp-content/uploads/2024/04/view-coffee-machine-scaled.jpg',\n",
              "  'position': 39},\n",
              " {'thumbnail': 'https://ts1.mm.bing.net/th?id=OIP.iJVs8584d3sUI0fYvq83YwHaE8&pid=15.1',\n",
              "  'link': 'https://www.bing.com/images/search?view=detailV2&id=DABFD932EF41D71634AFF25575AE9B1A1C6BB2A1&thid=OIP.iJVs8584d3sUI0fYvq83YwHaE8&mediaurl=https%3a%2f%2ftencoffees.com%2fwp-content%2fuploads%2f2023%2f10%2fzv2e8_y84ny.jpg&exph=1067&expw=1600&q=coffee+machines&simid=608023617613741228&ck=2624A608695E506A8A032B1CBCA0CF95&itb=0&FORM=IVCLIG',\n",
              "  'original': 'https://tencoffees.com/wp-content/uploads/2023/10/zv2e8_y84ny.jpg',\n",
              "  'position': 40},\n",
              " {'thumbnail': 'https://ts1.mm.bing.net/th?id=OIP.TXKSd1n62Vk9tppm3S8bCwHaG-&pid=15.1',\n",
              "  'link': 'https://www.bing.com/images/search?view=detailV2&id=8BBFCF27B67964A4DBEA9C028CB52667EA24B540&thid=OIP.TXKSd1n62Vk9tppm3S8bCwHaG-&mediaurl=https%3a%2f%2fm.media-amazon.com%2fimages%2fI%2f71lyIc5Do5L._AC_UL960_QL65_.jpg&exph=904&expw=960&q=coffee+machines&simid=608009263818497996&ck=4F53896719A12221DAC5BF7FC580ECB8&itb=0&FORM=IVCLIG',\n",
              "  'original': 'https://m.media-amazon.com/images/I/71lyIc5Do5L._AC_UL960_QL65_.jpg',\n",
              "  'position': 41},\n",
              " {'thumbnail': 'https://ts1.mm.bing.net/th?id=OIP.HPW_QQJcm_YFawfqIOST9gHaFN&pid=15.1',\n",
              "  'link': 'https://www.bing.com/images/search?view=detailV2&id=073F774F886F107EF076B94C4E5C06D2A473306E&thid=OIP.HPW_QQJcm_YFawfqIOST9gHaFN&mediaurl=https%3a%2f%2fneufert-cdn.archdaily.net%2fuploads%2fphoto%2fimage%2f330906%2fHero_shot-3.jpg%3fv%3d1683038902&exph=1758&expw=2500&q=coffee+machines&simid=608017230987943684&ck=31C7EDDDC3B7F6803020CDA63986240A&itb=0&FORM=IVCLIG',\n",
              "  'original': 'https://neufert-cdn.archdaily.net/uploads/photo/image/330906/Hero_shot-3.jpg?v=1683038902',\n",
              "  'position': 42},\n",
              " {'thumbnail': 'https://ts2.mm.bing.net/th?id=OIP.X6DJz_cb6Vx3Zlx2mIRdEAHaHa&pid=15.1',\n",
              "  'link': 'https://www.bing.com/images/search?view=detailV2&id=6E959B44F98AE74F2604879D6122267633EBEC7F&thid=OIP.X6DJz_cb6Vx3Zlx2mIRdEAHaHa&mediaurl=https%3a%2f%2fgeartekonline.com%2fwp-content%2fuploads%2f2020%2f06%2fBreville-the-Barista-Express_01.jpg&exph=1000&expw=1000&q=coffee+machines&simid=608017578870533629&ck=4DCCA129C0C3E1E006685EF611D4159A&itb=0&FORM=IVCLIG',\n",
              "  'original': 'https://geartekonline.com/wp-content/uploads/2020/06/Breville-the-Barista-Express_01.jpg',\n",
              "  'position': 43},\n",
              " {'thumbnail': 'https://ts4.mm.bing.net/th?id=OIP.Rb-6X9q3St4oKSo9YriTbgHaJy&pid=15.1',\n",
              "  'link': 'https://www.bing.com/images/search?view=detailV2&id=6A4EBEEF86DB5215F97A86B370317330F3DFC6EF&thid=OIP.Rb-6X9q3St4oKSo9YriTbgHaJy&mediaurl=https%3a%2f%2f3.bp.blogspot.com%2f-dsDUD6QRvCU%2fV4yocuAuicI%2fAAAAAAAAAOQ%2fKNB0YsQdfp8ux9KWOdZ5aVF_waj1z8lpACLcB%2fs1600%2fcoffee14.jpg&exph=1500&expw=1134&q=coffee+machines&simid=607987484046273267&ck=5A16783305481E6CDF19F076612881CA&itb=0&FORM=IVCLIG',\n",
              "  'original': 'https://3.bp.blogspot.com/-dsDUD6QRvCU/V4yocuAuicI/AAAAAAAAAOQ/KNB0YsQdfp8ux9KWOdZ5aVF_waj1z8lpACLcB/s1600/coffee14.jpg',\n",
              "  'position': 44},\n",
              " {'thumbnail': 'https://ts4.mm.bing.net/th?id=OIP.XbdjHHjoIgDLUN2xDlaJ4AHaLG&pid=15.1',\n",
              "  'link': 'https://www.bing.com/images/search?view=detailV2&id=9E1F013821DD92375D5B5EF17551088462211D1C&thid=OIP.XbdjHHjoIgDLUN2xDlaJ4AHaLG&mediaurl=https%3a%2f%2fi.pinimg.com%2foriginals%2f21%2fdc%2f59%2f21dc59663416ba4ed899c712807c9654.jpg&exph=3658&expw=2439&q=coffee+machines&simid=608029467368781403&ck=447922459B4BC5130BD6A1F69714DB20&itb=0&FORM=IVCLIG',\n",
              "  'original': 'https://i.pinimg.com/originals/21/dc/59/21dc59663416ba4ed899c712807c9654.jpg',\n",
              "  'position': 45},\n",
              " {'thumbnail': 'https://ts2.mm.bing.net/th?id=OIP.xt3Mw5D0glFQZF3vqhYxSwHaEH&pid=15.1',\n",
              "  'link': 'https://www.bing.com/images/search?view=detailV2&id=5A8C84695FDA04E0B6FB6CFAC28DE1E57E49CB31&thid=OIP.xt3Mw5D0glFQZF3vqhYxSwHaEH&mediaurl=http%3a%2f%2flifeboostcoffee.com%2fcdn%2fshop%2farticles%2ffeature_image_2f159daa-2a9c-4052-9f3d-439b90d243fa_1200x1200.jpg%3fv%3d1718902767&exph=600&expw=1080&q=coffee+machines&simid=608013962479418913&ck=A397516D048854AF571A2E4772ACB795&itb=0&FORM=IVCLIG',\n",
              "  'original': 'http://lifeboostcoffee.com/cdn/shop/articles/feature_image_2f159daa-2a9c-4052-9f3d-439b90d243fa_1200x1200.jpg?v=1718902767',\n",
              "  'position': 46},\n",
              " {'thumbnail': 'https://ts1.mm.bing.net/th?id=OIP.HAG3EOsLWavUjhDv0-j8ugHaEH&pid=15.1',\n",
              "  'link': 'https://www.bing.com/images/search?view=detailV2&id=8616B60BAC7D676DC8E0A47606B3C530C0F7A485&thid=OIP.HAG3EOsLWavUjhDv0-j8ugHaEH&mediaurl=http%3a%2f%2flifeboostcoffee.com%2fcdn%2fshop%2farticles%2ffeature_image_1_432d6a85-031a-451b-a6b7-bcebf6c99f0c_1200x1200.jpg%3fv%3d1711824592&exph=600&expw=1080&q=coffee+machines&simid=608010655367114512&ck=8C67798EDFA7386DA7F74085B936AF06&itb=0&FORM=IVCLIG',\n",
              "  'original': 'http://lifeboostcoffee.com/cdn/shop/articles/feature_image_1_432d6a85-031a-451b-a6b7-bcebf6c99f0c_1200x1200.jpg?v=1711824592',\n",
              "  'position': 47},\n",
              " {'thumbnail': 'https://ts2.mm.bing.net/th?id=OIP.eau1idiv4QZi6MbuqGP0wAHaHa&pid=15.1',\n",
              "  'link': 'https://www.bing.com/images/search?view=detailV2&id=3A783DB1E88F3F293F8ABAC494119819B935AECE&thid=OIP.eau1idiv4QZi6MbuqGP0wAHaHa&mediaurl=http%3a%2f%2fmedia-cdn.list.ly%2fproduction%2f192011%2f1257547%2fitem1257547_600px.jpeg%3fver%3d8985294201&exph=700&expw=700&q=coffee+machines&simid=608007099103865325&ck=CF33094877BD5A03420EBFC883DADE58&itb=0&FORM=IVCLIG',\n",
              "  'original': 'http://media-cdn.list.ly/production/192011/1257547/item1257547_600px.jpeg?ver=8985294201',\n",
              "  'position': 48},\n",
              " {'thumbnail': 'https://ts1.mm.bing.net/th?id=OIP._sQ0HbDSIC94UorodUh6MQHaHa&pid=15.1',\n",
              "  'link': 'https://www.bing.com/images/search?view=detailV2&id=F9B85F53DBBAFE586B57250A00D492EECDFB3B70&thid=OIP._sQ0HbDSIC94UorodUh6MQHaHa&mediaurl=https%3a%2f%2fi5.walmartimages.com%2fseo%2fEspresso-Machines-Cappuccino-Machines-and-Latte-Machines-Home-Compact-Coffee-Machines-stainless-steels_77aab56f-a7e5-42c5-afa2-0b3281efdc66.810f28618e52604116584cfa98070089.jpeg&exph=2000&expw=2000&q=coffee+machines&simid=607990877074429744&ck=BF4704B61EB9F019E4002439E843DA1F&itb=0&FORM=IVCLIG',\n",
              "  'original': 'https://i5.walmartimages.com/seo/Espresso-Machines-Cappuccino-Machines-and-Latte-Machines-Home-Compact-Coffee-Machines-stainless-steels_77aab56f-a7e5-42c5-afa2-0b3281efdc66.810f28618e52604116584cfa98070089.jpeg',\n",
              "  'position': 49},\n",
              " {'thumbnail': 'https://ts2.mm.bing.net/th?id=OIP.VJFHmTMnU8nt8BnKnwkvgQHaKJ&pid=15.1',\n",
              "  'link': 'https://www.bing.com/images/search?view=detailV2&id=E649A6B15A272A2C2E074E348BF4FA20B390FB04&thid=OIP.VJFHmTMnU8nt8BnKnwkvgQHaKJ&mediaurl=https%3a%2f%2fmy-live-01.slatic.net%2foriginal%2fd00b656b6295665fbbaea30f0a4ef6e9.jpg&exph=1000&expw=730&q=coffee+machines&simid=608039289931112845&ck=33088BDE6A926663EE488FBB9380C3FF&itb=0&FORM=IVCLIG',\n",
              "  'original': 'https://my-live-01.slatic.net/original/d00b656b6295665fbbaea30f0a4ef6e9.jpg',\n",
              "  'position': 50},\n",
              " {'thumbnail': 'https://ts4.mm.bing.net/th?id=OIP.SQWTZGleLtfXpe7k7ZaG0wHaJ4&pid=15.1',\n",
              "  'link': 'https://www.bing.com/images/search?view=detailV2&id=4798FF4C6B1F1CDF0662D824D786700C2C63CF70&thid=OIP.SQWTZGleLtfXpe7k7ZaG0wHaJ4&mediaurl=https%3a%2f%2fmedia.very.co.uk%2fi%2fvery%2fRDD7T_SQ1_0000000088_NO_COLOR_SLf&exph=1800&expw=1350&q=coffee+machines&simid=608007747686185407&ck=3B3D85772A8576847F17086233AA3C14&itb=0&FORM=IVCLIG',\n",
              "  'original': 'https://media.very.co.uk/i/very/RDD7T_SQ1_0000000088_NO_COLOR_SLf',\n",
              "  'position': 51},\n",
              " {'thumbnail': 'https://ts3.mm.bing.net/th?id=OIP.-MDg59qbJLU6nAN-3skXiQHaFh&pid=15.1',\n",
              "  'link': 'https://www.bing.com/images/search?view=detailV2&id=7E6E3DB67426BFBD58706F95DDA7E384D1A1103E&thid=OIP.-MDg59qbJLU6nAN-3skXiQHaFh&mediaurl=https%3a%2f%2fcdn.mos.cms.futurecdn.net%2fyvcBrPgzFLmDGwChPMUJsP.jpg&exph=1118&expw=1500&q=coffee+machines&simid=608015122145703158&ck=85A81D694D46FE8F5EA6EA059651E9BC&itb=0&FORM=IVCLIG',\n",
              "  'original': 'https://cdn.mos.cms.futurecdn.net/yvcBrPgzFLmDGwChPMUJsP.jpg',\n",
              "  'position': 52},\n",
              " {'thumbnail': 'https://ts4.mm.bing.net/th?id=OIP.JzzXnmSl0vn7X5mj0fvEZQHaJu&pid=15.1',\n",
              "  'link': 'https://www.bing.com/images/search?view=detailV2&id=529F96EE6A061A4BFBA9EAA1CD68F509A9AFD0FC&thid=OIP.JzzXnmSl0vn7X5mj0fvEZQHaJu&mediaurl=http%3a%2f%2fwww.shinyshiny.tv%2fwp-content%2fgallery%2f10-best-coffee-makers%2fShiny_Krups.jpg&exph=1086&expw=827&q=coffee+machines&simid=608005338228082423&ck=211A4D4BC5E73811B43B6B7B47023B80&itb=0&FORM=IVCLIG',\n",
              "  'original': 'http://www.shinyshiny.tv/wp-content/gallery/10-best-coffee-makers/Shiny_Krups.jpg',\n",
              "  'position': 53},\n",
              " {'thumbnail': 'https://ts4.mm.bing.net/th?id=OIP.uLvbfNbX79_hHlqvqJiwMAHaEJ&pid=15.1',\n",
              "  'link': 'https://www.bing.com/images/search?view=detailV2&id=3B05737E364879423AE13A8F656B9DC851C253FC&thid=OIP.uLvbfNbX79_hHlqvqJiwMAHaEJ&mediaurl=https%3a%2f%2fitscoffeetyme.com%2fwp-content%2fuploads%2f2023%2f09%2fexpresso-machine.png&exph=816&expw=1456&q=coffee+machines&simid=608038452413811531&ck=03FC127A75DBE489B969DA53373B762C&itb=0&FORM=IVCLIG',\n",
              "  'original': 'https://itscoffeetyme.com/wp-content/uploads/2023/09/expresso-machine.png',\n",
              "  'position': 54},\n",
              " {'thumbnail': 'https://ts4.mm.bing.net/th?id=OIP.JY_wfIsNh3Bg7z_fzljohAHaHa&pid=15.1',\n",
              "  'link': 'https://www.bing.com/images/search?view=detailV2&id=3B05737E364879423AE193DEB3797AECFC1AB1FD&thid=OIP.JY_wfIsNh3Bg7z_fzljohAHaHa&mediaurl=https%3a%2f%2fm.media-amazon.com%2fimages%2fI%2f71VqR7q5%2btL.jpg&exph=1500&expw=1500&q=coffee+machines&simid=608055310178999803&ck=5BF14B913C9AF5741205C745BF3BF313&itb=0&FORM=IVCLIG',\n",
              "  'original': 'https://m.media-amazon.com/images/I/71VqR7q5+tL.jpg',\n",
              "  'position': 55},\n",
              " {'thumbnail': 'https://ts3.mm.bing.net/th?id=OIP.5eVYq3wUij_Kcvtg98bD5QHaHa&pid=15.1',\n",
              "  'link': 'https://www.bing.com/images/search?view=detailV2&id=56758FD77BB3C5D7C296CB0C66410152FD26F6B4&thid=OIP.5eVYq3wUij_Kcvtg98bD5QHaHa&mediaurl=https%3a%2f%2fbuymorecoffee.com%2fwp-content%2fuploads%2f2020%2f09%2f1100919518-1.jpg&exph=1000&expw=1000&q=coffee+machines&simid=608023828066365454&ck=3E276EA78E9EFDC266A60CBD405C4645&itb=0&FORM=IVCLIG',\n",
              "  'original': 'https://buymorecoffee.com/wp-content/uploads/2020/09/1100919518-1.jpg',\n",
              "  'position': 56},\n",
              " {'thumbnail': 'https://tse1.mm.bing.net/th/id/OIP.-aQhblw_xGriUH-hCwB_iQHaO0?w=115&h=194&c=7&r=0&o=5&pid=1.7',\n",
              "  'link': 'https://www.bing.com/images/search?view=detailV2&ccid=%2baQhblw%2f&id=1303D81A7AE4DB80EC6D2EDF6EFF6704AB34B5D3&thid=OIP.-aQhblw_xGriUH-hCwB_iQHaO0&mediaurl=https%3a%2f%2fsenukiperera.github.io%2fCoffee-Shop-Website%2fimages%2fimg+7.jpg&cdnurl=https%3a%2f%2fth.bing.com%2fth%2fid%2fR.f9a4216e5c3fc46ae2507fa10b007f89%3frik%3d07U0qwRn%252f27fLg%26pid%3dImgRaw%26r%3d0&exph=1128&expw=564&q=coffee&simid=607987715946581048&FORM=IRPRST&ck=BB1958E81A4506F12D37BBEB325B412A&selectedIndex=11&itb=0',\n",
              "  'title': 'Coffee Shop',\n",
              "  'size': '564×1128',\n",
              "  'source': 'https://senukiperera.github.io/Coffee-Shop-Website/index.html',\n",
              "  'domain': 'senukiperera.github.io',\n",
              "  'original': 'https://senukiperera.github.io/Coffee-Shop-Website/images/img 7.jpg',\n",
              "  'position': 57},\n",
              " {'thumbnail': 'https://tse3.mm.bing.net/th/id/OIP.JWuiSWASG2JhM3t7LvKcjQHaE8?w=291&h=194&c=7&r=0&o=5&pid=1.7',\n",
              "  'link': 'https://www.bing.com/images/search?view=detailV2&ccid=JWuiSWAS&id=2C348AA81793242D7F8EB2F3F54F2B80B4080202&thid=OIP.JWuiSWASG2JhM3t7LvKcjQHaE8&mediaurl=https%3a%2f%2fwww.columbusnavigator.com%2fwp-content%2fuploads%2f2019%2f09%2fcoffee-latte-art-1.jpg&cdnurl=https%3a%2f%2fth.bing.com%2fth%2fid%2fR.256ba24960121b6261337b7b2ef29c8d%3frik%3dAgIItIArT%252fXzsg%26pid%3dImgRaw%26r%3d0&exph=1067&expw=1600&q=coffee&simid=608017411386258431&FORM=IRPRST&ck=DDC96D5259D6F4A4922202860C89663B&selectedIndex=12&itb=0',\n",
              "  'title': '8 Incredible Coffee Shops In Columbus',\n",
              "  'size': '1600×1067',\n",
              "  'source': 'https://www.columbusnavigator.com/columbus-coffee-shops/',\n",
              "  'domain': 'columbusnavigator.com',\n",
              "  'original': 'https://www.columbusnavigator.com/wp-content/uploads/2019/09/coffee-latte-art-1.jpg',\n",
              "  'position': 58},\n",
              " {'thumbnail': 'https://tse1.mm.bing.net/th/id/OIP.hs8bdtU5BKxPP7rBzVsHmgHaFC?w=284&h=194&c=7&r=0&o=5&pid=1.7',\n",
              "  'link': 'https://www.bing.com/images/search?view=detailV2&ccid=hs8bdtU5&id=3288D8344244F720F93017F00098616AC7C19B65&thid=OIP.hs8bdtU5BKxPP7rBzVsHmgHaFC&mediaurl=https%3a%2f%2fsba.ubc.ca%2fsites%2fsba.ubc.ca%2ffiles%2fcoffee_shop_2019_0.jpg&cdnurl=https%3a%2f%2fth.bing.com%2fth%2fid%2fR.86cf1b76d53904ac4f3fbac1cd5b079a%3frik%3dZZvBx2phmADwFw%26pid%3dImgRaw%26r%3d0&exph=2523&expw=3704&q=coffee&simid=608007653175281827&FORM=IRPRST&ck=D23BD959FBE286D43ACC7AFBCCF58FA7&selectedIndex=13&itb=0',\n",
              "  'title': 'Industry Overview: Coffee Shops and Coffee Manufacturing | Small ...',\n",
              "  'size': '3704×2523',\n",
              "  'source': 'https://sba.ubc.ca/blog/industry-overview-coffee-shops-and-coffee-manufacturing',\n",
              "  'domain': 'sba.ubc.ca',\n",
              "  'source_logo': 'https://tse3.mm.bing.net/th/id/ODF.qxDLPlomdjJCmnchXdebEg?w=12&h=12&c=7&rs=1&p=0&pid=1.7',\n",
              "  'original': 'https://sba.ubc.ca/sites/sba.ubc.ca/files/coffee_shop_2019_0.jpg',\n",
              "  'description': 'coffee shops manufacturing shop industry overview business previous next sba ubc ca',\n",
              "  'position': 59},\n",
              " {'thumbnail': 'https://tse4.mm.bing.net/th/id/OIP.FrF527JOSPDj-X85y5JGjwEyDM?w=290&h=194&c=7&r=0&o=5&pid=1.7',\n",
              "  'link': 'https://www.bing.com/images/search?view=detailV2&ccid=FrF527JO&id=F233380DFF6775EC94122134A4C61EE753E8C3E6&thid=OIP.FrF527JOSPDj-X85y5JGjwEyDM&mediaurl=https%3a%2f%2fmedia.timeout.com%2fimages%2f101705169%2fimage.jpg&cdnurl=https%3a%2f%2fth.bing.com%2fth%2fid%2fR.16b179dbb24e48f0e3f97f39cb92468f%3frik%3d5sPoU%252bcexqQ0IQ%26pid%3dImgRaw%26r%3d0&exph=1365&expw=2048&q=coffee&simid=607998303052371333&FORM=IRPRST&ck=CDB32C066664F9E572119F046603A0E0&selectedIndex=14&itb=0',\n",
              "  'title': 'Best coffee shops and coffee culture in NYC',\n",
              "  'size': '2048×1365',\n",
              "  'source': 'https://www.timeout.com/newyork/restaurants/best-coffee-shops',\n",
              "  'domain': 'timeout.com',\n",
              "  'source_logo': 'https://tse4.mm.bing.net/th/id/ODF.huGvb1qkpm8tXhUqJe0fDw?w=12&h=12&c=7&rs=1&p=0&pid=1.7',\n",
              "  'original': 'https://media.timeout.com/images/101705169/image.jpg',\n",
              "  'description': 'coffee shops',\n",
              "  'position': 60},\n",
              " {'thumbnail': 'https://tse1.mm.bing.net/th/id/OIP.mBL_bhICrw5teD7E9MqjEwHaE8?w=238&h=180&c=7&r=0&o=5&pid=1.7',\n",
              "  'link': 'https://www.bing.com/images/search?view=detailV2&ccid=mBL%2fbhIC&id=DB958AC9ABCB770F4592439E993AE93094A60B83&thid=OIP.mBL_bhICrw5teD7E9MqjEwHaE8&mediaurl=https%3a%2f%2fwww.daysoftheyear.com%2fcdn-cgi%2fimage%2fdpr%3d1%252Cf%3dauto%252Cfit%3dcover%252Cheight%3d675%252Cq%3d85%252Cwidth%3d1200%2fwp-content%2fuploads%2fhot-coffee-cappuccino-and-coffee-beans-2021-08-26-16-24-49-utc-scaled.jpg&cdnurl=https%3a%2f%2fth.bing.com%2fth%2fid%2fR.9812ff6e1202af0e6d783ec4f4caa313%3frik%3dgwumlDDpOpmeQw%26pid%3dImgRaw%26r%3d0&exph=1366&expw=2048&q=coffee&simid=608036292036753840&FORM=IRPRST&ck=94DCA6A7D69CB13932ADD7BEBB38575E&selectedIndex=15&itb=0',\n",
              "  'title': 'National Gourmet Coffee Day (January 18th) | Days Of The Year',\n",
              "  'size': '2048×1366',\n",
              "  'source': 'https://www.daysoftheyear.com/days/national-gourmet-coffee-day/',\n",
              "  'domain': 'daysoftheyear.com',\n",
              "  'original': 'https://www.daysoftheyear.com/cdn-cgi/image/dpr=1%2Cf=auto%2Cfit=cover%2Cheight=675%2Cq=85%2Cwidth=1200/wp-content/uploads/hot-coffee-cappuccino-and-coffee-beans-2021-08-26-16-24-49-utc-scaled.jpg',\n",
              "  'position': 61},\n",
              " {'thumbnail': 'https://tse2.mm.bing.net/th/id/OIP.tXHRxwS6gJz98hDeUb1kmAHaLH?w=115&h=180&c=7&r=0&o=5&pid=1.7',\n",
              "  'link': 'https://www.bing.com/images/search?view=detailV2&ccid=tXHRxwS6&id=1CB3202331F1F3AF83943C95AE6F082D274429BA&thid=OIP.tXHRxwS6gJz98hDeUb1kmAHaLH&mediaurl=https%3a%2f%2fth.bing.com%2fth%2fid%2fR.b571d1c704ba809cfdf210de51bd6498%3frik%3duilEJy0Ib66VPA%26riu%3dhttp%253a%252f%252fwww.herheartlandsoul.com%252fwp-content%252fuploads%252fIMG_4559_HerHeartlandSoul_Thorson_029-2.jpg%26ehk%3dQ%252fahvkkedeg%252fttAD3lXKFXXT2PeguX%252bC5G%252b5ymAHuiQ%253d%26risl%3d%26pid%3dImgRaw%26r%3d0&exph=1200&expw=800&q=coffee&simid=608029888267187364&FORM=IRPRST&ck=697F9610EFEE3E621D2165622386D3DB&selectedIndex=16&itb=0',\n",
              "  'title': 'A Coffee Date Look - Her He…',\n",
              "  'size': '800×1200',\n",
              "  'source': 'http://www.herheartlandsoul.com/a-coffee-date-look/',\n",
              "  'domain': 'herheartlandsoul.com',\n",
              "  'original': 'http://www.herheartlandsoul.com/wp-content/uploads/IMG_4559_HerHeartlandSoul_Thorson_029-2.jpg',\n",
              "  'description': 'coffee date look herheartlandsoul',\n",
              "  'position': 62},\n",
              " {'thumbnail': 'https://tse2.mm.bing.net/th/id/OIP.bcB6zrqs92YNjj-6eLIvUwHaDF?w=307&h=145&c=7&r=0&o=5&pid=1.7',\n",
              "  'link': 'https://www.bing.com/images/search?view=detailV2&ccid=bcB6zrqs&id=C431760B217B1F91C52983F26C95F6811F8F1B11&thid=OIP.bcB6zrqs92YNjj-6eLIvUwHaDF&mediaurl=https%3a%2f%2fwww.activatecoffee.com%2fimg%2f8a5f12c52adb4b1d416bd6fc0788ebbe.jpg%3f18&cdnurl=https%3a%2f%2fth.bing.com%2fth%2fid%2fR.6dc07acebaacf7660d8e3fba78b22f53%3frik%3dERuPH4H2lWzygw%26pid%3dImgRaw%26r%3d0&exph=800&expw=1920&q=coffee&simid=608031520329196203&FORM=IRPRST&ck=2A970A10E0FDA6C7F91AFECC5B65A765&selectedIndex=17&itb=0',\n",
              "  'title': 'Specialty Coffee Shops: A Guide to the Culture and Types of Coffee',\n",
              "  'size': '1920×800',\n",
              "  'source': 'https://www.activatecoffee.com/types-of-coffee-shops-specialty-coffee-shops',\n",
              "  'domain': 'activatecoffee.com',\n",
              "  'original': 'https://www.activatecoffee.com/img/8a5f12c52adb4b1d416bd6fc0788ebbe.jpg?18',\n",
              "  'position': 63},\n",
              " {'thumbnail': 'https://tse1.mm.bing.net/th/id/OIP.iu744OC3EAIzBBbHvs_kIwHaHa?w=156&h=180&c=7&r=0&o=5&pid=1.7',\n",
              "  'link': 'https://www.bing.com/images/search?view=detailV2&ccid=iu744OC3&id=785585F5DC6622DA7FB599CE97560BDD84EEAC4D&thid=OIP.iu744OC3EAIzBBbHvs_kIwHaHa&mediaurl=https%3a%2f%2fth.bing.com%2fth%2fid%2fR.8aeef8e0e0b71002330416c7becfe423%3frik%3dTazuhN0LVpfOmQ%26riu%3dhttp%253a%252f%252fwww.shelflife.ie%252fwp-content%252fuploads%252f2015%252f09%252fDollarphotoclub_87853371.jpg%26ehk%3d5CbkuYRICDgaFLQLwSQjbLSCpc4Le0LgjHe9DootgaM%253d%26risl%3d1%26pid%3dImgRaw%26r%3d0&exph=6017&expw=6016&q=coffee&simid=608000295899640675&FORM=IRPRST&ck=C7D03896E04BA5912AEFF784EABCDD1C&selectedIndex=18&itb=0',\n",
              "  'title': 'Coffee Break Breakthrough - Shelfli…',\n",
              "  'size': '6016×6017',\n",
              "  'source': 'http://www.shelflife.ie/coffee-break-breakthrough/',\n",
              "  'domain': 'shelflife.ie',\n",
              "  'original': 'http://www.shelflife.ie/wp-content/uploads/2015/09/Dollarphotoclub_87853371.jpg',\n",
              "  'description': 'break coffee shelflife ie',\n",
              "  'position': 64},\n",
              " {'thumbnail': 'https://tse3.mm.bing.net/th/id/OIP.5y4oV2VWnQrn1-lgwt_LKQHaHa?w=156&h=180&c=7&r=0&o=5&pid=1.7',\n",
              "  'link': 'https://www.bing.com/images/search?view=detailV2&ccid=5y4oV2VW&id=2C502893157FDD914C82C19BD123998AC3EF9245&thid=OIP.5y4oV2VWnQrn1-lgwt_LKQHaHa&mediaurl=https%3a%2f%2fkalosmusicandart.com%2fwp-content%2fuploads%2f2024%2f05%2fUntitled-2.jpeg&cdnurl=https%3a%2f%2fth.bing.com%2fth%2fid%2fR.e72e285765569d0ae7d7e960c2dfcb29%3frik%3dRZLvw4qZI9GbwQ%26pid%3dImgRaw%26r%3d0&exph=1080&expw=1080&q=coffee&simid=608003598796210387&FORM=IRPRST&ck=DB00F5F27D04D82044163008F030A8D7&selectedIndex=19&itb=0',\n",
              "  'title': 'Buy Us a Coffee - Kalos Music & Art School',\n",
              "  'size': '1080×1080',\n",
              "  'source': 'https://kalosmusicandart.com/product/buy-us-a-coffee/',\n",
              "  'domain': 'kalosmusicandart.com',\n",
              "  'original': 'https://kalosmusicandart.com/wp-content/uploads/2024/05/Untitled-2.jpeg',\n",
              "  'position': 65},\n",
              " {'thumbnail': 'https://tse1.mm.bing.net/th/id/OIP.nSkpaQLEIC2pMDQ7HxE0RwHaLI?w=115&h=180&c=7&r=0&o=5&pid=1.7',\n",
              "  'link': 'https://www.bing.com/images/search?view=detailV2&ccid=nSkpaQLE&id=2CC6E1EF7093440401282EFC0746B8F9678F41D9&thid=OIP.nSkpaQLEIC2pMDQ7HxE0RwHaLI&mediaurl=https%3a%2f%2fmega.africa%2fwp-content%2fuploads%2f2023%2f04%2fground-coffee-in-portafilter-for-espresso-in-a-wooden-tray-with-coffee-beans-.jpg&cdnurl=https%3a%2f%2fth.bing.com%2fth%2fid%2fR.9d29296902c4202da930343b1f113447%3frik%3d2UGPZ%252fm4Rgf8Lg%26pid%3dImgRaw%26r%3d0&exph=2000&expw=1331&q=coffee&simid=608001412638319805&FORM=IRPRST&ck=00E14C5EAFCEEEBCA069F9E83A46F5A7&selectedIndex=20&itb=0',\n",
              "  'title': 'Coffee Shop Business Plan …',\n",
              "  'size': '1331×2000',\n",
              "  'source': 'https://mega.africa/product/coffee-shop-business-plan/',\n",
              "  'domain': 'mega.africa',\n",
              "  'original': 'https://mega.africa/wp-content/uploads/2023/04/ground-coffee-in-portafilter-for-espresso-in-a-wooden-tray-with-coffee-beans-.jpg',\n",
              "  'position': 66},\n",
              " {'thumbnail': 'https://tse2.mm.bing.net/th/id/OIP.PEN112zf2DIuolUc7BcCRAHaE7?w=233&h=180&c=7&r=0&o=5&pid=1.7',\n",
              "  'link': 'https://www.bing.com/images/search?view=detailV2&ccid=PEN112zf&id=6EA3DDDAABA7FD69D80FBDC23CB648596B1EC24B&thid=OIP.PEN112zf2DIuolUc7BcCRAHaE7&mediaurl=https%3a%2f%2fwww.centralbean.co.uk%2fwp-content%2fuploads%2f2014%2f08%2fp3.jpg&cdnurl=https%3a%2f%2fth.bing.com%2fth%2fid%2fR.3c4375d76cdfd8322ea2551cec170244%3frik%3dS8Iea1lItjzCvQ%26pid%3dImgRaw%26r%3d0&exph=933&expw=1400&q=coffee&simid=608017389887555314&FORM=IRPRST&ck=88C9BD4BD83C32AC69FB779A9AE1B542&selectedIndex=21&itb=0',\n",
              "  'title': 'Central Bean | Our Coffee - Central Bean',\n",
              "  'size': '1400×933',\n",
              "  'source': 'http://www.centralbean.co.uk/portfolio_page/our-coffee/',\n",
              "  'domain': 'centralbean.co.uk',\n",
              "  'original': 'https://www.centralbean.co.uk/wp-content/uploads/2014/08/p3.jpg',\n",
              "  'description': 'coffee',\n",
              "  'position': 67},\n",
              " {'thumbnail': 'https://tse3.mm.bing.net/th/id/OIP.deMdpgV3RhbvaLGSosM2bQHaE7?w=233&h=180&c=7&r=0&o=5&pid=1.7',\n",
              "  'link': 'https://www.bing.com/images/search?view=detailV2&ccid=deMdpgV3&id=F85707C3212CCFF18CEFDBDA8D01F3049F66D857&thid=OIP.deMdpgV3RhbvaLGSosM2bQHaE7&mediaurl=https%3a%2f%2fth.bing.com%2fth%2fid%2fR.75e31da605774616ef68b192a2c3366d%3frik%3dV9hmnwTzAY3a2w%26riu%3dhttp%253a%252f%252fkarenrothnutrition.com%252fwp-content%252fuploads%252f2014%252f03%252fcoffee.jpg%26ehk%3d8kgWSAHhRQ3O0cTuqcHMb6Z9FP45sZ1rmd%252fBwjKvzvU%253d%26risl%3d%26pid%3dImgRaw%26r%3d0&exph=2000&expw=3008&q=coffee&simid=608024064280118185&FORM=IRPRST&ck=A52A025E3974759669EC39256334161D&selectedIndex=22&itb=0',\n",
              "  'title': 'The Real Buzz About Coffee | Karen Roth Nutrition',\n",
              "  'size': '3008×2000',\n",
              "  'source': 'http://karenrothnutrition.com/the-real-buzz-about-coffee/',\n",
              "  'domain': 'karenrothnutrition.com',\n",
              "  'original': 'http://karenrothnutrition.com/wp-content/uploads/2014/03/coffee.jpg',\n",
              "  'description': 'coffee real cup korea brew surface bubbles liquid down health movement never makers choose buzz drinking procedurally generated create latte',\n",
              "  'position': 68},\n",
              " {'thumbnail': 'https://tse3.mm.bing.net/th/id/OIP.z98aGp6qLr5fe-TIv6GPjAHaJ3?w=115&h=180&c=7&r=0&o=5&pid=1.7',\n",
              "  'link': 'https://www.bing.com/images/search?view=detailV2&ccid=z98aGp6q&id=F06A1AE77D956E994B549EC819E1F4BA377D7675&thid=OIP.z98aGp6qLr5fe-TIv6GPjAHaJ3&mediaurl=https%3a%2f%2fcoffeeandcomfort.com%2fwp-content%2fuploads%2f2023%2f10%2fcropped-7xm.xyz520767.jpg&cdnurl=https%3a%2f%2fth.bing.com%2fth%2fid%2fR.cfdf1a1a9eaa2ebe5f7be4c8bfa18f8c%3frik%3ddXZ9N7r04RnIng%26pid%3dImgRaw%26r%3d0&exph=853&expw=640&q=coffee&simid=607989605775857825&FORM=IRPRST&ck=34357831D2AEDA3E94CB108E68C687A3&selectedIndex=23&itb=0',\n",
              "  'title': 'Top 10 Coffee Rituals From A…',\n",
              "  'size': '640×853',\n",
              "  'source': 'https://coffeeandcomfort.com/web-stories/top-10-coffee-rituals-from-around-the-world/',\n",
              "  'domain': 'coffeeandcomfort.com',\n",
              "  'original': 'https://coffeeandcomfort.com/wp-content/uploads/2023/10/cropped-7xm.xyz520767.jpg',\n",
              "  'position': 69},\n",
              " {'thumbnail': 'https://tse4.mm.bing.net/th/id/OIP.SP6gf7_SSH3cEHZ5nj3mEgHaEK?w=276&h=180&c=7&r=0&o=5&pid=1.7',\n",
              "  'link': 'https://www.bing.com/images/search?view=detailV2&ccid=SP6gf7%2fS&id=FD921CA2E30636C60E1261EFC1C45EA7E20ECE23&thid=OIP.SP6gf7_SSH3cEHZ5nj3mEgHaEK&mediaurl=https%3a%2f%2fi0.wp.com%2fstillinbelgrade.com%2fwp-content%2fuploads%2f2018%2f03%2fcoffee.jpg%3ffit%3d1600%252C900&cdnurl=https%3a%2f%2fth.bing.com%2fth%2fid%2fR.48fea07fbfd2487ddc1076799e3de612%3frik%3dI84O4qdexMHvYQ%26pid%3dImgRaw%26r%3d0&exph=900&expw=1600&q=coffee&simid=608006467803945848&FORM=IRPRST&ck=992A759BF183C4A1985952C52C817CFD&selectedIndex=24&itb=0',\n",
              "  'title': 'Coffee Guide: Where to Find the Finest Coffee? • STILL IN BELGRADE',\n",
              "  'size': '1600×900',\n",
              "  'source': 'http://stillinbelgrade.com/coffee-guide-where-to-find-the-finest-coffee/',\n",
              "  'domain': 'stillinbelgrade.com',\n",
              "  'original': 'https://i0.wp.com/stillinbelgrade.com/wp-content/uploads/2018/03/coffee.jpg?fit=1600%2C900',\n",
              "  'description': 'coffee',\n",
              "  'position': 70},\n",
              " {'thumbnail': 'https://tse2.mm.bing.net/th/id/OIP.tTV05bZjlXslrt3u2ngN4wHaDt?w=294&h=174&c=7&r=0&o=5&pid=1.7',\n",
              "  'link': 'https://www.bing.com/images/search?view=detailV2&ccid=tTV05bZj&id=975F1F9CD4941B543DE12083873D937557123A5B&thid=OIP.tTV05bZjlXslrt3u2ngN4wHaDt&mediaurl=https%3a%2f%2fth.bing.com%2fth%2fid%2fR.b53574e5b663957b25aeddeeda780de3%3frik%3dWzoSV3WTPYeDIA%26riu%3dhttp%253a%252f%252fatlantanmagazine.com%252fget%252ffiles%252fimage%252fgalleries%252fistockcoffeethumbnail.jpeg%26ehk%3dnXv46BiVikSnp3hyZ4C36V9Y045dNuo85q7iQJ%252btISw%253d%26risl%3d%26pid%3dImgRaw%26r%3d0&exph=1000&expw=2000&q=coffee&simid=608003083362586371&FORM=IRPRST&ck=51F9680FABA29B2A0FE2A7D02D49AEB0&selectedIndex=25&itb=0',\n",
              "  'title': 'The 15 Best Coffee Shops In Atlanta',\n",
              "  'size': '2000×1000',\n",
              "  'source': 'https://atlantanmagazine.com/best-coffee-shops-atlanta',\n",
              "  'domain': 'atlantanmagazine.com',\n",
              "  'original': 'http://atlantanmagazine.com/get/files/image/galleries/istockcoffeethumbnail.jpeg',\n",
              "  'position': 71},\n",
              " {'thumbnail': 'https://tse4.mm.bing.net/th/id/OIP.z6ma0kQaVKWUT4gL2HOnsAHaE5?w=229&h=180&c=7&r=0&o=5&pid=1.7',\n",
              "  'link': 'https://www.bing.com/images/search?view=detailV2&ccid=z6ma0kQa&id=23703621CDCFAB4FAD9DDA503F6B92B996F219A8&thid=OIP.z6ma0kQaVKWUT4gL2HOnsAHaE5&mediaurl=https%3a%2f%2fwww.publicdomainpictures.net%2fpictures%2f60000%2fvelka%2fcoffee-137924711667x.jpg&cdnurl=https%3a%2f%2fth.bing.com%2fth%2fid%2fR.cfa99ad2441a54a5944f880bd873a7b0%3frik%3dqBnylrmSaz9Q2g%26pid%3dImgRaw%26r%3d0&exph=1271&expw=1920&q=coffee&simid=608008954574353644&FORM=IRPRST&ck=C84E3D4E71BBCA5AB57B0B8D03C87DE9&selectedIndex=26&itb=0',\n",
              "  'title': 'Coffee Free Stock Photo - Public Domain Pictures',\n",
              "  'size': '1920×1271',\n",
              "  'source': 'https://publicdomainpictures.net/view-image.php?image=54604&picture=coffee',\n",
              "  'domain': 'publicdomainpictures.net',\n",
              "  'source_logo': 'https://tse2.mm.bing.net/th/id/ODF.lPqrhQa5EO7xJHf8DMqrJw?w=12&h=12&c=7&rs=1&p=0&pid=1.7',\n",
              "  'original': 'https://www.publicdomainpictures.net/pictures/60000/velka/coffee-137924711667x.jpg',\n",
              "  'description': 'coffee desktop background6 stock publicdomainpictures domain public',\n",
              "  'position': 72},\n",
              " {'thumbnail': 'https://tse4.mm.bing.net/th/id/OIP._5ws66iQxikc5hEfw4nHeQHaE5?w=229&h=180&c=7&r=0&o=5&pid=1.7',\n",
              "  'link': 'https://www.bing.com/images/search?view=detailV2&ccid=%2f5ws66iQ&id=4A9EFEC6505EF66677106CB52DDECB308C4AE003&thid=OIP._5ws66iQxikc5hEfw4nHeQHaE5&mediaurl=https%3a%2f%2fwww.publicdomainpictures.net%2fpictures%2f60000%2fvelka%2fcoffee-1379246966KcN.jpg&cdnurl=https%3a%2f%2fth.bing.com%2fth%2fid%2fR.ff9c2ceba890c6291ce6111fc389c779%3frik%3dA%252bBKjDDL3i21bA%26pid%3dImgRaw%26r%3d0&exph=1271&expw=1920&q=coffee&simid=608011076300261291&FORM=IRPRST&ck=AC6DE562F534B5A5E96D5AB44D7C3C30&selectedIndex=27&itb=0',\n",
              "  'title': 'Coffee Free Stock Photo - Public Domain Pictures',\n",
              "  'size': '1920×1271',\n",
              "  'source': 'https://www.publicdomainpictures.net/view-image.php?image=54603&picture=coffee',\n",
              "  'domain': 'publicdomainpictures.net',\n",
              "  'source_logo': 'https://tse2.mm.bing.net/th/id/ODF.lPqrhQa5EO7xJHf8DMqrJw?w=12&h=12&c=7&rs=1&p=0&pid=1.7',\n",
              "  'original': 'https://www.publicdomainpictures.net/pictures/60000/velka/coffee-1379246966KcN.jpg',\n",
              "  'description': 'coffee stock public domain publicdomainpictures',\n",
              "  'position': 73},\n",
              " {'thumbnail': 'https://tse2.mm.bing.net/th/id/OIP.c8nKn8XEvMijgCQPw_DhGgHaE7?w=228&h=180&c=7&r=0&o=5&pid=1.7',\n",
              "  'link': 'https://www.bing.com/images/search?view=detailV2&ccid=c8nKn8XE&id=10D7A43DED1A51D84432D48657BDA527E3AE7DA6&thid=OIP.c8nKn8XEvMijgCQPw_DhGgHaE7&mediaurl=https%3a%2f%2fth.bing.com%2fth%2fid%2fR.73c9ca9fc5c4bcc8a380240fc3f0e11a%3frik%3dpn2u4yelvVeG1A%26riu%3dhttp%253a%252f%252fapparelmagazine.co.nz%252frestaurantandcafe%252fwp-content%252fuploads%252fsites%252f3%252f2017%252f04%252fRC-NEWS-COFFEE-GROWTH-0517-image.jpg%26ehk%3dO14AGLc9kPRZcH48%252b5cVOyYfLSjrvZiyIVG1KBm2ZzM%253d%26risl%3d%26pid%3dImgRaw%26r%3d0&exph=1362&expw=2048&q=coffee&simid=608049550628570635&FORM=IRPRST&ck=899D578C82C56D7BA0247FE338698BF1&selectedIndex=28&itb=0',\n",
              "  'title': 'ASIAN COFFEE MARKETS AMONG FASTEST GROWING | …',\n",
              "  'size': '2048×1362',\n",
              "  'source': 'http://restaurantandcafe.co.nz/asian-coffee-markets-among-fastest-growing/',\n",
              "  'domain': 'restaurantandcafe.co.nz',\n",
              "  'original': 'http://apparelmagazine.co.nz/restaurantandcafe/wp-content/uploads/sites/3/2017/04/RC-NEWS-COFFEE-GROWTH-0517-image.jpg',\n",
              "  'description': 'coffee fastest growing among markets asian',\n",
              "  'position': 74},\n",
              " {'thumbnail': 'https://tse4.mm.bing.net/th/id/OIP.DL_jkatBPU1a0foZn9zXMgHaFj?w=228&h=180&c=7&r=0&o=5&pid=1.7',\n",
              "  'link': 'https://www.bing.com/images/search?view=detailV2&ccid=DL%2fjkatB&id=09981E82721AFBC068D9717C944CD924B79BE133&thid=OIP.DL_jkatBPU1a0foZn9zXMgHaFj&mediaurl=https%3a%2f%2ftorontoforyou.com%2fwp-content%2fuploads%2f2023%2f12%2fcoffee-shops-1.jpg&cdnurl=https%3a%2f%2fth.bing.com%2fth%2fid%2fR.0cbfe391ab413d4d5ad1fa199fdcd732%3frik%3dM%252bGbtyTZTJR8cQ%26pid%3dImgRaw%26r%3d0&exph=900&expw=1200&q=coffee&simid=607999278028965528&FORM=IRPRST&ck=FDC16446C6AFCD809744E69ED2C50D22&selectedIndex=29&itb=0',\n",
              "  'title': \"Calgary's 16 Best Coffee Shops: Ultimate Guide for Coffee Lovers\",\n",
              "  'size': '1200×900',\n",
              "  'source': 'https://torontoforyou.com/calgary-best-coffee-shops-ultimate-guide-coffee-lovers/',\n",
              "  'domain': 'torontoforyou.com',\n",
              "  'original': 'https://torontoforyou.com/wp-content/uploads/2023/12/coffee-shops-1.jpg',\n",
              "  'position': 75},\n",
              " {'thumbnail': 'https://tse4.mm.bing.net/th/id/OIP.PVSxa3s-yIMoYynlVOBUiwHaE6?w=258&h=180&c=7&r=0&o=5&pid=1.7',\n",
              "  'link': 'https://www.bing.com/images/search?view=detailV2&ccid=PVSxa3s%2b&id=C127B42FE37CAF8661A76AFEC79AAC115ECC9DCD&thid=OIP.PVSxa3s-yIMoYynlVOBUiwHaE6&mediaurl=https%3a%2f%2ftfe-bd.sgp1.digitaloceanspaces.com%2fposts%2f18458%2f19th-coffee.jpg&cdnurl=https%3a%2f%2fth.bing.com%2fth%2fid%2fR.3d54b16b7b3ec883286329e554e0548b%3frik%3dzZ3MXhGsmsf%252bag%26pid%3dImgRaw%26r%3d0&exph=598&expw=900&q=coffee&simid=608018326170266860&FORM=IRPRST&ck=2AD77D196F908CD26F90653DCDFA60A2&selectedIndex=30&itb=0',\n",
              "  'title': 'From campus to coffee shop | The Financial Express',\n",
              "  'size': '900×598',\n",
              "  'source': 'https://thefinancialexpress.com.bd/lifestyle/from-campus-to-coffee-shop',\n",
              "  'domain': 'thefinancialexpress.com.bd',\n",
              "  'original': 'https://tfe-bd.sgp1.digitaloceanspaces.com/posts/18458/19th-coffee.jpg',\n",
              "  'position': 76},\n",
              " {'thumbnail': 'https://tse4.mm.bing.net/th/id/OIP.RJpfpmaGf08ijHCZ54sM2AHaFY?w=236&h=180&c=7&r=0&o=5&pid=1.7',\n",
              "  'link': 'https://www.bing.com/images/search?view=detailV2&ccid=RJpfpmaG&id=6D2EA445D3BB74C6C8063F89BE3CD09F0618F099&thid=OIP.RJpfpmaGf08ijHCZ54sM2AHaFY&mediaurl=https%3a%2f%2fremezcla.com%2fwp-content%2fuploads%2f2010%2f09%2f2_28_11_SupremeCoffee7598.jpg&cdnurl=https%3a%2f%2fth.bing.com%2fth%2fid%2fR.449a5fa666867f4f228c7099e78b0cd8%3frik%3dmfAYBp%252fQPL6JPw%26pid%3dImgRaw%26r%3d0&exph=836&expw=1150&q=coffee&simid=608053901423812208&FORM=IRPRST&ck=DADCDFED65E992545BCF23B5706190CC&selectedIndex=31&itb=0',\n",
              "  'title': \"5 Best Coffee Shops in L.A.'s Eastside - Food - Remezcla\",\n",
              "  'size': '1150×836',\n",
              "  'source': 'https://remezcla.com/food/5-best-coffee-shops-in-los-angeles-eastside/',\n",
              "  'domain': 'remezcla.com',\n",
              "  'original': 'https://remezcla.com/wp-content/uploads/2010/09/2_28_11_SupremeCoffee7598.jpg',\n",
              "  'description': 'remezcla',\n",
              "  'position': 77},\n",
              " {'thumbnail': 'https://tse3.mm.bing.net/th/id/OIP.CEEpbrbCb4L6rLxeFiUhXwHaE6?w=258&h=180&c=7&r=0&o=5&pid=1.7',\n",
              "  'link': 'https://www.bing.com/images/search?view=detailV2&ccid=CEEpbrbC&id=2B7139DF0BF0F90CBDC4ECC814B735E31BB17D7F&thid=OIP.CEEpbrbCb4L6rLxeFiUhXwHaE6&mediaurl=https%3a%2f%2flibreshot.com%2fwp-content%2fuploads%2f2015%2f01%2fcoffee-861x572.jpg&cdnurl=https%3a%2f%2fth.bing.com%2fth%2fid%2fR.0841296eb6c26f82faacbc5e1625215f%3frik%3df32xG%252bM1txTI7A%26pid%3dImgRaw%26r%3d0&exph=572&expw=861&q=coffee&simid=608011888033497013&FORM=IRPRST&ck=7F790D1D92F0E23F5BA1FB31AC421E27&selectedIndex=32&itb=0',\n",
              "  'title': 'قهوة | ألبوم صور مجاني | LibreShot',\n",
              "  'size': '861×572',\n",
              "  'source': 'https://libreshot.com/ar/coffee/',\n",
              "  'domain': 'libreshot.com',\n",
              "  'source_logo': 'https://tse1.mm.bing.net/th/id/ODF.-2ERIjH9Ac5K41VLwHNBFg?w=12&h=12&c=7&rs=1&p=0&pid=1.7',\n",
              "  'original': 'https://libreshot.com/wp-content/uploads/2015/01/coffee-861x572.jpg',\n",
              "  'position': 78},\n",
              " {'thumbnail': 'https://tse3.mm.bing.net/th/id/OIP.jvlpFMPuUQc-2WHb9PY5cgHaE8?w=276&h=184&c=7&r=0&o=5&pid=1.7',\n",
              "  'link': 'https://www.bing.com/images/search?view=detailV2&ccid=jvlpFMPu&id=BD65C6E810B12EC035DBDBD4CCABC928B4AF98D4&thid=OIP.jvlpFMPuUQc-2WHb9PY5cgHaE8&mediaurl=https%3a%2f%2fwww.travelettes.net%2fwp-content%2fuploads%2f2015%2f09%2fcoffee-801781_1280.jpg&cdnurl=https%3a%2f%2fth.bing.com%2fth%2fid%2fR.8ef96914c3ee51073ed961dbf4f63972%3frik%3d1JivtCjJq8zU2w%26pid%3dImgRaw%26r%3d0&exph=854&expw=1280&q=coffee&simid=607995043174501943&FORM=IRPRST&ck=50848CC6A846F706BB4C258AA70A8E85&selectedIndex=33&itb=0',\n",
              "  'title': 'Travelettes » » The 8 Best Coffee Houses in NYC',\n",
              "  'size': '1280×854',\n",
              "  'source': 'http://www.travelettes.net/the-best-coffee-houses-in-nyc/',\n",
              "  'domain': 'travelettes.net',\n",
              "  'original': 'https://www.travelettes.net/wp-content/uploads/2015/09/coffee-801781_1280.jpg',\n",
              "  'description': 'travelettes roost',\n",
              "  'position': 79},\n",
              " {'thumbnail': 'https://tse2.mm.bing.net/th/id/OIP.yY51iiHE7jVwCp5GMvgQVgHaE7?w=276&h=184&c=7&r=0&o=5&pid=1.7',\n",
              "  'link': 'https://www.bing.com/images/search?view=detailV2&ccid=yY51iiHE&id=34C2566DA3ADCB5F5E364E7CD40C33CDE49B7C0E&thid=OIP.yY51iiHE7jVwCp5GMvgQVgHaE7&mediaurl=https%3a%2f%2fth.bing.com%2fth%2fid%2fR.c98e758a21c4ee35700a9e4632f81056%3frik%3dDnyb5M0zDNR8Tg%26riu%3dhttp%253a%252f%252featsd.com%252fwp-content%252fuploads%252f2013%252f02%252fCafe-Mono-Latte-Art-San-Diego_EatSD-1024x682.jpg%26ehk%3dM6lTcvJdcqTUdxzRYH1n3%252fvitF3t4atObJOiBuR8YH4%253d%26risl%3d%26pid%3dImgRaw%26r%3d0&exph=682&expw=1024&q=coffee&simid=608053115428278762&FORM=IRPRST&ck=64D1E749FFF1CF8DC81A095E1E6DCAA8&selectedIndex=34&itb=0',\n",
              "  'title': 'Top 10 Best Coffee Shops in San Diego',\n",
              "  'size': '1024×682',\n",
              "  'source': 'http://eatsd.com/eatsd-lists/top-10-best-coffee-shops-san-diego/',\n",
              "  'domain': 'eatsd.com',\n",
              "  'original': 'http://eatsd.com/wp-content/uploads/2013/02/Cafe-Mono-Latte-Art-San-Diego_EatSD-1024x682.jpg',\n",
              "  'description': 'diego san coffee shops top',\n",
              "  'position': 80}]"
            ]
          },
          "metadata": {},
          "execution_count": 9
        }
      ]
    },
    {
      "cell_type": "markdown",
      "metadata": {
        "id": "Ru0sGblfhsd7"
      },
      "source": [
        "Or, if you're comfortable at the command line, you can set it in your terminal with:\n",
        "\n",
        "    export AZURE_SEARCH_KEY=your_key_here\n",
        "\n",
        "and then restart Jupyter Notebook, and use the above line without editing it.\n",
        "\n",
        "Once you've set `key`, you can use `search_images_bing`. This function is provided by the small `utils` class included with the notebooks online. If you're not sure where a function is defined, you can just type it in your notebook to find out:"
      ]
    },
    {
      "cell_type": "code",
      "execution_count": 4,
      "metadata": {
        "id": "CLjswqiRhsd_",
        "outputId": "81126584-b20b-4ec1-e1c7-2e9277434f4d",
        "colab": {
          "base_uri": "https://localhost:8080/",
          "height": 121
        }
      },
      "outputs": [
        {
          "output_type": "execute_result",
          "data": {
            "text/plain": [
              "<function fastbook.search_images_bing(key, term, min_sz=128, max_images=150)>"
            ],
            "text/html": [
              "<div style=\"max-width:800px; border: 1px solid var(--colab-border-color);\"><style>\n",
              "      pre.function-repr-contents {\n",
              "        overflow-x: auto;\n",
              "        padding: 8px 12px;\n",
              "        max-height: 500px;\n",
              "      }\n",
              "\n",
              "      pre.function-repr-contents.function-repr-contents-collapsed {\n",
              "        cursor: pointer;\n",
              "        max-height: 100px;\n",
              "      }\n",
              "    </style>\n",
              "    <pre style=\"white-space: initial; background:\n",
              "         var(--colab-secondary-surface-color); padding: 8px 12px;\n",
              "         border-bottom: 1px solid var(--colab-border-color);\"><b>fastbook.search_images_bing</b><br/>def search_images_bing(key, term, min_sz=128, max_images=150)</pre><pre class=\"function-repr-contents function-repr-contents-collapsed\" style=\"\"><a class=\"filepath\" style=\"display:none\" href=\"#\">/usr/local/lib/python3.11/dist-packages/fastbook/__init__.py</a>&lt;no docstring&gt;</pre>\n",
              "      <script>\n",
              "      if (google.colab.kernel.accessAllowed && google.colab.files && google.colab.files.view) {\n",
              "        for (const element of document.querySelectorAll('.filepath')) {\n",
              "          element.style.display = 'block'\n",
              "          element.onclick = (event) => {\n",
              "            event.preventDefault();\n",
              "            event.stopPropagation();\n",
              "            google.colab.files.view(element.textContent, 46);\n",
              "          };\n",
              "        }\n",
              "      }\n",
              "      for (const element of document.querySelectorAll('.function-repr-contents')) {\n",
              "        element.onclick = (event) => {\n",
              "          event.preventDefault();\n",
              "          event.stopPropagation();\n",
              "          element.classList.toggle('function-repr-contents-collapsed');\n",
              "        };\n",
              "      }\n",
              "      </script>\n",
              "      </div>"
            ]
          },
          "metadata": {},
          "execution_count": 4
        }
      ],
      "source": [
        "search_images_bing"
      ]
    },
    {
      "cell_type": "code",
      "execution_count": 10,
      "metadata": {
        "id": "qhnYdgj1hseA"
      },
      "outputs": [],
      "source": [
        "# results = search_images_bing(key, 'grizzly bear')\n",
        "# ims = results.attrgot('contentUrl')\n",
        "# len(ims)"
      ]
    },
    {
      "cell_type": "markdown",
      "metadata": {
        "id": "W9aNuHo_hseB"
      },
      "source": [
        "We've successfully downloaded the URLs of 150 grizzly bears (or, at least, images that Bing Image Search finds for that search term).\n",
        "\n",
        "**NB**: there's no way to be sure exactly what images a search like this will find. The results can change over time. We've heard of at least one case of a community member who found some unpleasant pictures of dead bears in their search results. You'll receive whatever images are found by the web search engine. If you're running this at work, or with kids, etc, then be cautious before you display the downloaded images.\n",
        "\n",
        "Let's look at one:"
      ]
    },
    {
      "cell_type": "code",
      "execution_count": null,
      "metadata": {
        "hide_input": true,
        "id": "5l7ruLGjhseB"
      },
      "outputs": [],
      "source": [
        "#hide\n",
        "ims = ['http://3.bp.blogspot.com/-S1scRCkI3vY/UHzV2kucsPI/AAAAAAAAA-k/YQ5UzHEm9Ss/s1600/Grizzly%2BBear%2BWildlife.jpg']"
      ]
    },
    {
      "cell_type": "code",
      "execution_count": null,
      "metadata": {
        "id": "sVvErnf_hseC"
      },
      "outputs": [],
      "source": [
        "dest = 'images/grizzly.jpg'\n",
        "download_url(ims[0], dest)"
      ]
    },
    {
      "cell_type": "code",
      "execution_count": null,
      "metadata": {
        "id": "-VRsHYRohseC"
      },
      "outputs": [],
      "source": [
        "im = Image.open(dest)\n",
        "im.to_thumb(128,128)"
      ]
    },
    {
      "cell_type": "markdown",
      "metadata": {
        "id": "C0wlMWBJhseC"
      },
      "source": [
        "This seems to have worked nicely, so let's use fastai's `download_images` to download all the URLs for each of our search terms. We'll put each in a separate folder:"
      ]
    },
    {
      "cell_type": "code",
      "execution_count": null,
      "metadata": {
        "id": "ZzpJLlbahseD"
      },
      "outputs": [],
      "source": [
        "bear_types = 'grizzly','black','teddy'\n",
        "path = Path('bears')"
      ]
    },
    {
      "cell_type": "code",
      "execution_count": null,
      "metadata": {
        "id": "RaVbWrcKhseD"
      },
      "outputs": [],
      "source": [
        "if not path.exists():\n",
        "    path.mkdir()\n",
        "    for o in bear_types:\n",
        "        dest = (path/o)\n",
        "        dest.mkdir(exist_ok=True)\n",
        "        results = search_images_bing(key, f'{o} bear')\n",
        "        download_images(dest, urls=results.attrgot('contentUrl'))"
      ]
    },
    {
      "cell_type": "markdown",
      "metadata": {
        "id": "s1cekx0IhseD"
      },
      "source": [
        "Our folder has image files, as we'd expect:"
      ]
    },
    {
      "cell_type": "code",
      "execution_count": null,
      "metadata": {
        "id": "Qfy8k9gahseD"
      },
      "outputs": [],
      "source": [
        "fns = get_image_files(path)\n",
        "fns"
      ]
    },
    {
      "cell_type": "markdown",
      "metadata": {
        "id": "weQcO-pHhseE"
      },
      "source": [
        "> j: I just love this about working in Jupyter notebooks! It's so easy to gradually build what I want, and check my work every step of the way. I make a _lot_ of mistakes, so this is really helpful to me..."
      ]
    },
    {
      "cell_type": "markdown",
      "metadata": {
        "id": "6baGkQvdhseE"
      },
      "source": [
        "Often when we download files from the internet, there are a few that are corrupt. Let's check:"
      ]
    },
    {
      "cell_type": "code",
      "execution_count": null,
      "metadata": {
        "id": "r_o4S_NAhseE"
      },
      "outputs": [],
      "source": [
        "failed = verify_images(fns)\n",
        "failed"
      ]
    },
    {
      "cell_type": "markdown",
      "metadata": {
        "id": "oop-0XMNhseF"
      },
      "source": [
        "To remove all the failed images, you can use `unlink` on each of them. Note that, like most fastai functions that return a collection, `verify_images` returns an object of type `L`, which includes the `map` method. This calls the passed function on each element of the collection:"
      ]
    },
    {
      "cell_type": "code",
      "execution_count": null,
      "metadata": {
        "id": "4hLdd2prhseF"
      },
      "outputs": [],
      "source": [
        "failed.map(Path.unlink);"
      ]
    },
    {
      "cell_type": "markdown",
      "metadata": {
        "id": "x3ekUxBehseF"
      },
      "source": [
        "### Sidebar: Getting Help in Jupyter Notebooks"
      ]
    },
    {
      "cell_type": "markdown",
      "metadata": {
        "id": "pclexBtUhseF"
      },
      "source": [
        "Jupyter notebooks are great for experimenting and immediately seeing the results of each function, but there is also a lot of functionality to help you figure out how to use different functions, or even directly look at their source code. For instance, if you type in a cell:\n",
        "```\n",
        "??verify_images\n",
        "```\n",
        "a window will pop up with:\n",
        "```\n",
        "Signature: verify_images(fns)\n",
        "Source:   \n",
        "def verify_images(fns):\n",
        "    \"Find images in `fns` that can't be opened\"\n",
        "    return L(fns[i] for i,o in\n",
        "             enumerate(parallel(verify_image, fns)) if not o)\n",
        "File:      ~/git/fastai/fastai/vision/utils.py\n",
        "Type:      function\n",
        "```\n",
        "This tells us what argument the function accepts (`fns`), then shows us the source code and the file it comes from. Looking at that source code, we can see it applies the function `verify_image` in parallel and only keeps the image files for which the result of that function is `False`, which is consistent with the doc string: it finds the images in `fns` that can't be opened.\n",
        "\n",
        "Here are some other features that are very useful in Jupyter notebooks:\n",
        "\n",
        "- At any point, if you don't remember the exact spelling of a function or argument name, you can press Tab to get autocompletion suggestions.\n",
        "- When inside the parentheses of a function, pressing Shift and Tab simultaneously will display a window with the signature of the function and a short description. Pressing these keys twice will expand the documentation, and pressing them three times will open a full window with the same information at the bottom of your screen.\n",
        "- In a cell, typing `?func_name` and executing will open a window with the signature of the function and a short description.\n",
        "- In a cell, typing `??func_name` and executing will open a window with the signature of the function, a short description, and the source code.\n",
        "- If you are using the fastai library, we added a `doc` function for you: executing `doc(func_name)` in a cell will open a window with the signature of the function, a short description and links to the source code on GitHub and the full documentation of the function in the [library docs](https://docs.fast.ai).\n",
        "- Unrelated to the documentation but still very useful: to get help at any point if you get an error, type `%debug` in the next cell and execute to open the [Python debugger](https://docs.python.org/3/library/pdb.html), which will let you inspect the content of every variable."
      ]
    },
    {
      "cell_type": "markdown",
      "metadata": {
        "id": "hD5gDXzhhseF"
      },
      "source": [
        "### End sidebar"
      ]
    },
    {
      "cell_type": "markdown",
      "metadata": {
        "id": "d3CRvv4ohseG"
      },
      "source": [
        "One thing to be aware of in this process: as we discussed in <<chapter_intro>>, models can only reflect the data used to train them. And the world is full of biased data, which ends up reflected in, for example, Bing Image Search (which we used to create our dataset). For instance, let's say you were interested in creating an app that could help users figure out whether they had healthy skin, so you trained a model on the results of searches for (say) \"healthy skin.\" <<healthy_skin>> shows you the kinds of results you would get."
      ]
    },
    {
      "cell_type": "markdown",
      "metadata": {
        "id": "tuleZvRmhseG"
      },
      "source": [
        "<img src=\"https://github.com/fastai/fastbook/blob/master/images/healthy_skin.gif?raw=1\" width=\"600\" caption=\"Data for a healthy skin detector?\" id=\"healthy_skin\">"
      ]
    },
    {
      "cell_type": "markdown",
      "metadata": {
        "id": "49otqhNAhseH"
      },
      "source": [
        "With this as your training data, you would end up not with a healthy skin detector, but a *young white woman touching her face* detector! Be sure to think carefully about the types of data that you might expect to see in practice in your application, and check carefully to ensure that all these types are reflected in your model's source data. footnote:[Thanks to Deb Raji, who came up with the \"healthy skin\" example. See her paper [\"Actionable Auditing: Investigating the Impact of Publicly Naming Biased Performance Results of Commercial AI Products\"](https://dl.acm.org/doi/10.1145/3306618.3314244) for more fascinating insights into model bias.]"
      ]
    },
    {
      "cell_type": "markdown",
      "metadata": {
        "id": "uOiGQeswhseH"
      },
      "source": [
        "Now that we have downloaded some data, we need to assemble it in a format suitable for model training. In fastai, that means creating an object called `DataLoaders`."
      ]
    },
    {
      "cell_type": "markdown",
      "metadata": {
        "id": "UmR6CIZshseH"
      },
      "source": [
        "## From Data to DataLoaders"
      ]
    },
    {
      "cell_type": "markdown",
      "metadata": {
        "id": "dJYQ5ewPhseH"
      },
      "source": [
        "`DataLoaders` is a thin class that just stores whatever `DataLoader` objects you pass to it, and makes them available as `train` and `valid`. Although it's a very simple class, it's very important in fastai: it provides the data for your model. The key functionality in `DataLoaders` is provided with just these four lines of code (it has some other minor functionality we'll skip over for now):\n",
        "\n",
        "```python\n",
        "class DataLoaders(GetAttr):\n",
        "    def __init__(self, *loaders): self.loaders = loaders\n",
        "    def __getitem__(self, i): return self.loaders[i]\n",
        "    train,valid = add_props(lambda i,self: self[i])\n",
        "```"
      ]
    },
    {
      "cell_type": "markdown",
      "metadata": {
        "id": "jor0_jL5hseI"
      },
      "source": [
        "> jargon: DataLoaders: A fastai class that stores multiple `DataLoader` objects you pass to it, normally a `train` and a `valid`, although it's possible to have as many as you like. The first two are made available as properties."
      ]
    },
    {
      "cell_type": "markdown",
      "metadata": {
        "id": "3k2AwsqHhseI"
      },
      "source": [
        "Later in the book you'll also learn about the `Dataset` and `Datasets` classes, which have the same relationship.\n",
        "\n",
        "To turn our downloaded data into a `DataLoaders` object we need to tell fastai at least four things:\n",
        "\n",
        "- What kinds of data we are working with\n",
        "- How to get the list of items\n",
        "- How to label these items\n",
        "- How to create the validation set\n",
        "\n",
        "So far we have seen a number of *factory methods* for particular combinations of these things, which are convenient when you have an application and data structure that happen to fit into those predefined methods. For when you don't, fastai has an extremely flexible system called the *data block API*. With this API you can fully customize every stage of the creation of your `DataLoaders`. Here is what we need to create a `DataLoaders` for the dataset that we just downloaded:"
      ]
    },
    {
      "cell_type": "code",
      "execution_count": null,
      "metadata": {
        "id": "GL7PWIIRhseI"
      },
      "outputs": [],
      "source": [
        "bears = DataBlock(\n",
        "    blocks=(ImageBlock, CategoryBlock),\n",
        "    get_items=get_image_files,\n",
        "    splitter=RandomSplitter(valid_pct=0.2, seed=42),\n",
        "    get_y=parent_label,\n",
        "    item_tfms=Resize(128))"
      ]
    },
    {
      "cell_type": "markdown",
      "metadata": {
        "id": "skPjWVUfhseI"
      },
      "source": [
        "Let's look at each of these arguments in turn. First we provide a tuple where we specify what types we want for the independent and dependent variables:\n",
        "\n",
        "```python\n",
        "blocks=(ImageBlock, CategoryBlock)\n",
        "```\n",
        "\n",
        "The *independent variable* is the thing we are using to make predictions from, and the *dependent variable* is our target. In this case, our independent variables are images, and our dependent variables are the categories (type of bear) for each image. We will see many other types of block in the rest of this book.\n",
        "\n",
        "For this `DataLoaders` our underlying items will be file paths. We have to tell fastai how to get a list of those files. The `get_image_files` function takes a path, and returns a list of all of the images in that path (recursively, by default):\n",
        "\n",
        "```python\n",
        "get_items=get_image_files\n",
        "```\n",
        "\n",
        "Often, datasets that you download will already have a validation set defined. Sometimes this is done by placing the images for the training and validation sets into different folders. Sometimes it is done by providing a CSV file in which each filename is listed along with which dataset it should be in. There are many ways that this can be done, and fastai provides a very general approach that allows you to use one of its predefined classes for this, or to write your own. In this case, however, we simply want to split our training and validation sets randomly. However, we would like to have the same training/validation split each time we run this notebook, so we fix the random seed (computers don't really know how to create random numbers at all, but simply create lists of numbers that look random; if you provide the same starting point for that list each time—called the *seed*—then you will get the exact same list each time):\n",
        "\n",
        "\n",
        "```python\n",
        "splitter=RandomSplitter(valid_pct=0.2, seed=42)\n",
        "```"
      ]
    },
    {
      "cell_type": "markdown",
      "metadata": {
        "id": "LrkYAg_AhseI"
      },
      "source": [
        "The independent variable is often referred to as `x` and the dependent variable is often referred to as `y`. Here, we are telling fastai what function to call to create the labels in our dataset:\n",
        "\n",
        "```python\n",
        "get_y=parent_label\n",
        "```\n",
        "\n",
        "`parent_label` is a function provided by fastai that simply gets the name of the folder a file is in. Because we put each of our bear images into folders based on the type of bear, this is going to give us the labels that we need.\n",
        "\n",
        "Our images are all different sizes, and this is a problem for deep learning: we don't feed the model one image at a time but several of them (what we call a *mini-batch*). To group them in a big array (usually called a *tensor*) that is going to go through our model, they all need to be of the same size. So, we need to add a transform which will resize these images to the same size. *Item transforms* are pieces of code that run on each individual item, whether it be an image, category, or so forth. fastai includes many predefined transforms; we use the `Resize` transform here:\n",
        "\n",
        "```python\n",
        "item_tfms=Resize(128)\n",
        "```\n",
        "\n",
        "This command has given us a `DataBlock` object. This is like a *template* for creating a `DataLoaders`. We still need to tell fastai the actual source of our data—in this case, the path where the images can be found:"
      ]
    },
    {
      "cell_type": "code",
      "execution_count": null,
      "metadata": {
        "id": "6nJNFzQYhseJ"
      },
      "outputs": [],
      "source": [
        "dls = bears.dataloaders(path)"
      ]
    },
    {
      "cell_type": "markdown",
      "metadata": {
        "id": "7HclMEZnhseJ"
      },
      "source": [
        "A `DataLoaders` includes validation and training `DataLoader`s. `DataLoader` is a class that provides batches of a few items at a time to the GPU. We'll be learning a lot more about this class in the next chapter. When you loop through a `DataLoader` fastai will give you 64 (by default) items at a time, all stacked up into a single tensor. We can take a look at a few of those items by calling the `show_batch` method on a `DataLoader`:"
      ]
    },
    {
      "cell_type": "code",
      "execution_count": null,
      "metadata": {
        "id": "7FbcUanMhseJ"
      },
      "outputs": [],
      "source": [
        "dls.valid.show_batch(max_n=4, nrows=1)"
      ]
    },
    {
      "cell_type": "markdown",
      "metadata": {
        "id": "93rP1cTuhseJ"
      },
      "source": [
        "By default `Resize` *crops* the images to fit a square shape of the size requested, using the full width or height. This can result in losing some important details. Alternatively, you can ask fastai to pad the images with zeros (black), or squish/stretch them:"
      ]
    },
    {
      "cell_type": "code",
      "execution_count": null,
      "metadata": {
        "id": "bX3gNLwAhseK"
      },
      "outputs": [],
      "source": [
        "bears = bears.new(item_tfms=Resize(128, ResizeMethod.Squish))\n",
        "dls = bears.dataloaders(path)\n",
        "dls.valid.show_batch(max_n=4, nrows=1)"
      ]
    },
    {
      "cell_type": "code",
      "execution_count": null,
      "metadata": {
        "id": "q2ukHO8_hseK"
      },
      "outputs": [],
      "source": [
        "bears = bears.new(item_tfms=Resize(128, ResizeMethod.Pad, pad_mode='zeros'))\n",
        "dls = bears.dataloaders(path)\n",
        "dls.valid.show_batch(max_n=4, nrows=1)"
      ]
    },
    {
      "cell_type": "markdown",
      "metadata": {
        "id": "qLUGOi6LhseK"
      },
      "source": [
        "All of these approaches seem somewhat wasteful, or problematic. If we squish or stretch the images they end up as unrealistic shapes, leading to a model that learns that things look different to how they actually are, which we would expect to result in lower accuracy. If we crop the images then we remove some of the features that allow us to perform recognition. For instance, if we were trying to recognize breeds of dog or cat, we might end up cropping out a key part of the body or the face necessary to distinguish between similar breeds. If we pad the images then we have a whole lot of empty space, which is just wasted computation for our model and results in a lower effective resolution for the part of the image we actually use.\n",
        "\n",
        "Instead, what we normally do in practice is to randomly select part of the image, and crop to just that part. On each epoch (which is one complete pass through all of our images in the dataset) we randomly select a different part of each image. This means that our model can learn to focus on, and recognize, different features in our images. It also reflects how images work in the real world: different photos of the same thing may be framed in slightly different ways.\n",
        "\n",
        "In fact, an entirely untrained neural network knows nothing whatsoever about how images behave. It doesn't even recognize that when an object is rotated by one degree, it still is a picture of the same thing! So actually training the neural network with examples of images where the objects are in slightly different places and slightly different sizes helps it to understand the basic concept of what an object is, and how it can be represented in an image.\n",
        "\n",
        "Here's another example where we replace `Resize` with `RandomResizedCrop`, which is the transform that provides the behavior we just described. The most important parameter to pass in is `min_scale`, which determines how much of the image to select at minimum each time:"
      ]
    },
    {
      "cell_type": "code",
      "execution_count": null,
      "metadata": {
        "id": "m7ih2POyhseL"
      },
      "outputs": [],
      "source": [
        "bears = bears.new(item_tfms=RandomResizedCrop(128, min_scale=0.3))\n",
        "dls = bears.dataloaders(path)\n",
        "dls.train.show_batch(max_n=4, nrows=1, unique=True)"
      ]
    },
    {
      "cell_type": "markdown",
      "metadata": {
        "id": "NwwZyvtehseM"
      },
      "source": [
        "We used `unique=True` to have the same image repeated with different versions of this `RandomResizedCrop` transform. This is a specific example of a more general technique, called data augmentation."
      ]
    },
    {
      "cell_type": "markdown",
      "metadata": {
        "id": "s2uwgvfthseM"
      },
      "source": [
        "### Data Augmentation"
      ]
    },
    {
      "cell_type": "markdown",
      "metadata": {
        "id": "sesseaaOhseM"
      },
      "source": [
        "*Data augmentation* refers to creating random variations of our input data, such that they appear different, but do not actually change the meaning of the data. Examples of common data augmentation techniques for images are rotation, flipping, perspective warping, brightness changes and contrast changes. For natural photo images such as the ones we are using here, a standard set of augmentations that we have found work pretty well are provided with the `aug_transforms` function. Because our images are now all the same size, we can apply these augmentations to an entire batch of them using the GPU, which will save a lot of time. To tell fastai we want to use these transforms on a batch, we use the `batch_tfms` parameter (note that we're not using `RandomResizedCrop` in this example, so you can see the differences more clearly; we're also using double the amount of augmentation compared to the default, for the same reason):"
      ]
    },
    {
      "cell_type": "code",
      "execution_count": null,
      "metadata": {
        "id": "DFQBmJTzhseM"
      },
      "outputs": [],
      "source": [
        "bears = bears.new(item_tfms=Resize(128), batch_tfms=aug_transforms(mult=2))\n",
        "dls = bears.dataloaders(path)\n",
        "dls.train.show_batch(max_n=8, nrows=2, unique=True)"
      ]
    },
    {
      "cell_type": "markdown",
      "metadata": {
        "id": "0m7oSg2OhseM"
      },
      "source": [
        "Now that we have assembled our data in a format fit for model training, let's actually train an image classifier using it."
      ]
    },
    {
      "cell_type": "markdown",
      "metadata": {
        "id": "da7ILWLThseN"
      },
      "source": [
        "## Training Your Model, and Using It to Clean Your Data"
      ]
    },
    {
      "cell_type": "markdown",
      "metadata": {
        "id": "I5jFJj-bhseN"
      },
      "source": [
        "Time to use the same lines of code as in <<chapter_intro>> to train our bear classifier.\n",
        "\n",
        "We don't have a lot of data for our problem (150 pictures of each sort of bear at most), so to train our model, we'll use `RandomResizedCrop` with an image size of 224 px, which is fairly standard for image classification, and default `aug_transforms`:"
      ]
    },
    {
      "cell_type": "code",
      "execution_count": null,
      "metadata": {
        "id": "4f-WFtD2hseN"
      },
      "outputs": [],
      "source": [
        "bears = bears.new(\n",
        "    item_tfms=RandomResizedCrop(224, min_scale=0.5),\n",
        "    batch_tfms=aug_transforms())\n",
        "dls = bears.dataloaders(path)"
      ]
    },
    {
      "cell_type": "markdown",
      "metadata": {
        "id": "F-p8p3N2hseN"
      },
      "source": [
        "We can now create our `Learner` and fine-tune it in the usual way:"
      ]
    },
    {
      "cell_type": "code",
      "execution_count": null,
      "metadata": {
        "id": "I09TONSihseN"
      },
      "outputs": [],
      "source": [
        "learn = vision_learner(dls, resnet18, metrics=error_rate)\n",
        "learn.fine_tune(4)"
      ]
    },
    {
      "cell_type": "markdown",
      "metadata": {
        "id": "3wkWXx4OhseO"
      },
      "source": [
        "Now let's see whether the mistakes the model is making are mainly thinking that grizzlies are teddies (that would be bad for safety!), or that grizzlies are black bears, or something else. To visualize this, we can create a *confusion matrix*:"
      ]
    },
    {
      "cell_type": "code",
      "execution_count": null,
      "metadata": {
        "id": "Fy4500h4hseO"
      },
      "outputs": [],
      "source": [
        "interp = ClassificationInterpretation.from_learner(learn)\n",
        "interp.plot_confusion_matrix()"
      ]
    },
    {
      "cell_type": "markdown",
      "metadata": {
        "id": "YWUpdKW2hseO"
      },
      "source": [
        "The rows represent all the black, grizzly, and teddy bears in our dataset, respectively. The columns represent the images which the model predicted as black, grizzly, and teddy bears, respectively. Therefore, the diagonal of the matrix shows the images which were classified correctly, and the off-diagonal cells represent those which were classified incorrectly. This is one of the many ways that fastai allows you to view the results of your model. It is (of course!) calculated using the validation set. With the color-coding, the goal is to have white everywhere except the diagonal, where we want dark blue. Our bear classifier isn't making many mistakes!\n",
        "\n",
        "It's helpful to see where exactly our errors are occurring, to see whether they're due to a dataset problem (e.g., images that aren't bears at all, or are labeled incorrectly, etc.), or a model problem (perhaps it isn't handling images taken with unusual lighting, or from a different angle, etc.). To do this, we can sort our images by their *loss*.\n",
        "\n",
        "The loss is a number that is higher if the model is incorrect (especially if it's also confident of its incorrect answer), or if it's correct, but not confident of its correct answer. In a couple of chapters we'll learn in depth how loss is calculated and used in the training process. For now, `plot_top_losses` shows us the images with the highest loss in our dataset. As the title of the output says, each image is labeled with four things: prediction, actual (target label), loss, and probability. The *probability* here is the confidence level, from zero to one, that the model has assigned to its prediction:"
      ]
    },
    {
      "cell_type": "code",
      "execution_count": null,
      "metadata": {
        "id": "_AMsk53ShseO"
      },
      "outputs": [],
      "source": [
        "interp.plot_top_losses(5, nrows=1)"
      ]
    },
    {
      "cell_type": "markdown",
      "metadata": {
        "id": "y79pZ6GJhseP"
      },
      "source": [
        "This output shows that the image with the highest loss is one that has been predicted as \"grizzly\" with high confidence. However, it's labeled (based on our Bing image search) as \"black.\" We're not bear experts, but it sure looks to us like this label is incorrect! We should probably change its label to \"grizzly.\"\n",
        "\n",
        "The intuitive approach to doing data cleaning is to do it *before* you train a model. But as you've seen in this case, a model can actually help you find data issues more quickly and easily. So, we normally prefer to train a quick and simple model first, and then use it to help us with data cleaning.\n",
        "\n",
        "fastai includes a handy GUI for data cleaning called `ImageClassifierCleaner` that allows you to choose a category and the training versus validation set and view the highest-loss images (in order), along with menus to allow images to be selected for removal or relabeling:"
      ]
    },
    {
      "cell_type": "code",
      "execution_count": null,
      "metadata": {
        "id": "6P-ZwqR4hseP"
      },
      "outputs": [],
      "source": [
        "#hide_output\n",
        "cleaner = ImageClassifierCleaner(learn)\n",
        "cleaner"
      ]
    },
    {
      "cell_type": "markdown",
      "metadata": {
        "id": "awhqjmZPhseP"
      },
      "source": [
        "<img alt=\"Cleaner widget\" width=\"700\" src=\"https://github.com/fastai/fastbook/blob/master/images/att_00007.png?raw=1\">"
      ]
    },
    {
      "cell_type": "code",
      "execution_count": null,
      "metadata": {
        "id": "CMaiW9AGhseP"
      },
      "outputs": [],
      "source": [
        "#hide\n",
        "# for idx in cleaner.delete(): cleaner.fns[idx].unlink()\n",
        "# for idx,cat in cleaner.change(): shutil.move(str(cleaner.fns[idx]), path/cat)"
      ]
    },
    {
      "cell_type": "markdown",
      "metadata": {
        "id": "9BA_wHJihseQ"
      },
      "source": [
        "We can see that amongst our \"black bears\" is an image that contains two bears: one grizzly, one black. So, we should choose `<Delete>` in the menu under this image. `ImageClassifierCleaner` doesn't actually do the deleting or changing of labels for you; it just returns the indices of items to change. So, for instance, to delete (`unlink`) all images selected for deletion, we would run:\n",
        "\n",
        "```python\n",
        "for idx in cleaner.delete(): cleaner.fns[idx].unlink()\n",
        "```\n",
        "\n",
        "To move images for which we've selected a different category, we would run:\n",
        "\n",
        "```python\n",
        "for idx,cat in cleaner.change(): shutil.move(str(cleaner.fns[idx]), path/cat)\n",
        "```\n",
        "\n",
        "> s: Cleaning the data and getting it ready for your model are two of the biggest challenges for data scientists; they say it takes 90% of their time. The fastai library aims to provide tools that make it as easy as possible.\n",
        "\n",
        "We'll be seeing more examples of model-driven data cleaning throughout this book. Once we've cleaned up our data, we can retrain our model. Try it yourself, and see if your accuracy improves!"
      ]
    },
    {
      "cell_type": "markdown",
      "metadata": {
        "id": "DmcwNHymhseQ"
      },
      "source": [
        "> note: No Need for Big Data: After cleaning the dataset using these steps, we generally are seeing 100% accuracy on this task. We even see that result when we download a lot fewer images than the 150 per class we're using here. As you can see, the common complaint that _you need massive amounts of data to do deep learning_ can be a very long way from the truth!"
      ]
    },
    {
      "cell_type": "markdown",
      "metadata": {
        "id": "3X5oCuVHhseQ"
      },
      "source": [
        "Now that we have trained our model, let's see how we can deploy it to be used in practice."
      ]
    },
    {
      "cell_type": "markdown",
      "metadata": {
        "id": "f57_9Q_ChseQ"
      },
      "source": [
        "## Turning Your Model into an Online Application"
      ]
    },
    {
      "cell_type": "markdown",
      "metadata": {
        "id": "tMUCg6CZhseQ"
      },
      "source": [
        "We are now going to look at what it takes to turn this model into a working online application. We will just go as far as creating a basic working prototype; we do not have the scope in this book to teach you all the details of web application development generally."
      ]
    },
    {
      "cell_type": "markdown",
      "metadata": {
        "id": "K8YT3ZUwhseR"
      },
      "source": [
        "### Using the Model for Inference"
      ]
    },
    {
      "cell_type": "markdown",
      "metadata": {
        "id": "GYHnqEdIhseR"
      },
      "source": [
        "Once you've got a model you're happy with, you need to save it, so that you can then copy it over to a server where you'll use it in production. Remember that a model consists of two parts: the *architecture* and the trained *parameters*. The easiest way to save the model is to save both of these, because that way when you load a model you can be sure that you have the matching architecture and parameters. To save both parts, use the `export` method.\n",
        "\n",
        "This method even saves the definition of how to create your `DataLoaders`. This is important, because otherwise you would have to redefine how to transform your data in order to use your model in production. fastai automatically uses your validation set `DataLoader` for inference by default, so your data augmentation will not be applied, which is generally what you want.\n",
        "\n",
        "When you call `export`, fastai will save a file called \"export.pkl\":"
      ]
    },
    {
      "cell_type": "code",
      "execution_count": null,
      "metadata": {
        "id": "8F0LmR9shseR"
      },
      "outputs": [],
      "source": [
        "learn.export()"
      ]
    },
    {
      "cell_type": "markdown",
      "metadata": {
        "id": "99AbaQ0khseR"
      },
      "source": [
        "Let's check that the file exists, by using the `ls` method that fastai adds to Python's `Path` class:"
      ]
    },
    {
      "cell_type": "code",
      "execution_count": null,
      "metadata": {
        "id": "kK3epdDKhseS"
      },
      "outputs": [],
      "source": [
        "path = Path()\n",
        "path.ls(file_exts='.pkl')"
      ]
    },
    {
      "cell_type": "markdown",
      "metadata": {
        "id": "MIL1Q-UBhseS"
      },
      "source": [
        "You'll need this file wherever you deploy your app to. For now, let's try to create a simple app within our notebook.\n",
        "\n",
        "When we use a model for getting predictions, instead of training, we call it *inference*. To create our inference learner from the exported file, we use `load_learner` (in this case, this isn't really necessary, since we already have a working `Learner` in our notebook; we're just doing it here so you can see the whole process end-to-end):"
      ]
    },
    {
      "cell_type": "code",
      "execution_count": null,
      "metadata": {
        "id": "8O4ep7aZhseS"
      },
      "outputs": [],
      "source": [
        "learn_inf = load_learner(path/'export.pkl')"
      ]
    },
    {
      "cell_type": "markdown",
      "metadata": {
        "id": "hikdw_sNhseS"
      },
      "source": [
        "When we're doing inference, we're generally just getting predictions for one image at a time. To do this, pass a filename to `predict`:"
      ]
    },
    {
      "cell_type": "code",
      "execution_count": null,
      "metadata": {
        "id": "wndWpYgOhseS"
      },
      "outputs": [],
      "source": [
        "learn_inf.predict('images/grizzly.jpg')"
      ]
    },
    {
      "cell_type": "markdown",
      "metadata": {
        "id": "nIIWrRr2hseT"
      },
      "source": [
        "This has returned three things: the predicted category in the same format you originally provided (in this case that's a string), the index of the predicted category, and the probabilities of each category. The last two are based on the order of categories in the *vocab* of the `DataLoaders`; that is, the stored list of all possible categories. At inference time, you can access the `DataLoaders` as an attribute of the `Learner`:"
      ]
    },
    {
      "cell_type": "code",
      "execution_count": null,
      "metadata": {
        "id": "J468hg-XhseT"
      },
      "outputs": [],
      "source": [
        "learn_inf.dls.vocab"
      ]
    },
    {
      "cell_type": "markdown",
      "metadata": {
        "id": "mbJfVpAuhseT"
      },
      "source": [
        "We can see here that if we index into the vocab with the integer returned by `predict` then we get back \"grizzly,\" as expected. Also, note that if we index into the list of probabilities, we see a nearly 1.00 probability that this is a grizzly."
      ]
    },
    {
      "cell_type": "markdown",
      "metadata": {
        "id": "Gn4XiAJshseT"
      },
      "source": [
        "We know how to make predictions from our saved model, so we have everything we need to start building our app. We can do it directly in a Jupyter notebook."
      ]
    },
    {
      "cell_type": "markdown",
      "metadata": {
        "id": "82hkFcEphseU"
      },
      "source": [
        "### Creating a Notebook App from the Model"
      ]
    },
    {
      "cell_type": "markdown",
      "metadata": {
        "id": "8FkY9tNahseU"
      },
      "source": [
        "To use our model in an application, we can simply treat the `predict` method as a regular function. Therefore, creating an app from the model can be done using any of the myriad of frameworks and techniques available to application developers.\n",
        "\n",
        "However, most data scientists are not familiar with the world of web application development. So let's try using something that you do, at this point, know: it turns out that we can create a complete working web application using nothing but Jupyter notebooks! The two things we need to make this happen are:\n",
        "\n",
        "- IPython widgets (ipywidgets)\n",
        "- Voilà\n",
        "\n",
        "*IPython widgets* are GUI components that bring together JavaScript and Python functionality in a web browser, and can be created and used within a Jupyter notebook. For instance, the image cleaner that we saw earlier in this chapter is entirely written with IPython widgets. However, we don't want to require users of our application to run Jupyter themselves.\n",
        "\n",
        "That is why *Voilà* exists. It is a system for making applications consisting of IPython widgets available to end users, without them having to use Jupyter at all. Voilà is taking advantage of the fact that a notebook _already is_ a kind of web application, just a rather complex one that depends on another web application: Jupyter itself. Essentially, it helps us automatically convert the complex web application we've already implicitly made (the notebook) into a simpler, easier-to-deploy web application, which functions like a normal web application rather than like a notebook.\n",
        "\n",
        "But we still have the advantage of developing in a notebook, so with ipywidgets, we can build up our GUI step by step. We will use this approach to create a simple image classifier. First, we need a file upload widget:"
      ]
    },
    {
      "cell_type": "code",
      "execution_count": null,
      "metadata": {
        "id": "0PyBGy_whseU"
      },
      "outputs": [],
      "source": [
        "#hide_output\n",
        "btn_upload = widgets.FileUpload()\n",
        "btn_upload"
      ]
    },
    {
      "cell_type": "markdown",
      "metadata": {
        "id": "5gAs9RP3hseU"
      },
      "source": [
        "<img alt=\"An upload button\" width=\"159\" src=\"https://github.com/fastai/fastbook/blob/master/images/att_00008.png?raw=1\">\n",
        "\n",
        "Now we can grab the image:"
      ]
    },
    {
      "cell_type": "code",
      "execution_count": null,
      "metadata": {
        "hide_input": true,
        "id": "07f7RPFBhseU"
      },
      "outputs": [],
      "source": [
        "#hide\n",
        "# For the book, we can't actually click an upload button, so we fake it\n",
        "btn_upload = SimpleNamespace(data = ['images/grizzly.jpg'])"
      ]
    },
    {
      "cell_type": "code",
      "execution_count": null,
      "metadata": {
        "id": "PyoocqRqhseV"
      },
      "outputs": [],
      "source": [
        "img = PILImage.create(btn_upload.data[-1])"
      ]
    },
    {
      "cell_type": "markdown",
      "metadata": {
        "id": "p36zYXJ2hseV"
      },
      "source": [
        "<img alt=\"Output widget representing the image\" width=\"117\" src=\"https://github.com/fastai/fastbook/blob/master/images/att_00009.png?raw=1\">"
      ]
    },
    {
      "cell_type": "markdown",
      "metadata": {
        "id": "d6rjBSVChseV"
      },
      "source": [
        "We can use an `Output` widget to display it:"
      ]
    },
    {
      "cell_type": "code",
      "execution_count": null,
      "metadata": {
        "id": "SjTUnaS3hseV"
      },
      "outputs": [],
      "source": [
        "#hide_output\n",
        "out_pl = widgets.Output()\n",
        "out_pl.clear_output()\n",
        "with out_pl: display(img.to_thumb(128,128))\n",
        "out_pl"
      ]
    },
    {
      "cell_type": "markdown",
      "metadata": {
        "id": "6T6Ikj9GhseW"
      },
      "source": [
        "<img alt=\"Output widget representing the image\" width=\"117\" src=\"https://github.com/fastai/fastbook/blob/master/images/att_00009.png?raw=1\">\n",
        "\n",
        "Then we can get our predictions:"
      ]
    },
    {
      "cell_type": "code",
      "execution_count": null,
      "metadata": {
        "id": "6ZnZp5uWhseW"
      },
      "outputs": [],
      "source": [
        "pred,pred_idx,probs = learn_inf.predict(img)"
      ]
    },
    {
      "cell_type": "markdown",
      "metadata": {
        "id": "yj8AY-HmhseW"
      },
      "source": [
        "and use a `Label` to display them:"
      ]
    },
    {
      "cell_type": "code",
      "execution_count": null,
      "metadata": {
        "id": "agvzZBkLhseW"
      },
      "outputs": [],
      "source": [
        "#hide_output\n",
        "lbl_pred = widgets.Label()\n",
        "lbl_pred.value = f'Prediction: {pred}; Probability: {probs[pred_idx]:.04f}'\n",
        "lbl_pred"
      ]
    },
    {
      "cell_type": "markdown",
      "metadata": {
        "id": "oku8Ruu3hseX"
      },
      "source": [
        "`Prediction: grizzly; Probability: 1.0000`\n",
        "\n",
        "We'll need a button to do the classification. It looks exactly like the upload button:"
      ]
    },
    {
      "cell_type": "code",
      "execution_count": null,
      "metadata": {
        "id": "z-U8hNAshseX"
      },
      "outputs": [],
      "source": [
        "#hide_output\n",
        "btn_run = widgets.Button(description='Classify')\n",
        "btn_run"
      ]
    },
    {
      "cell_type": "markdown",
      "metadata": {
        "id": "CRMcvcEvhseY"
      },
      "source": [
        "We'll also need a *click event handler*; that is, a function that will be called when it's pressed. We can just copy over the lines of code from above:"
      ]
    },
    {
      "cell_type": "code",
      "execution_count": null,
      "metadata": {
        "id": "a5hEzTwFhseY"
      },
      "outputs": [],
      "source": [
        "def on_click_classify(change):\n",
        "    img = PILImage.create(btn_upload.data[-1])\n",
        "    out_pl.clear_output()\n",
        "    with out_pl: display(img.to_thumb(128,128))\n",
        "    pred,pred_idx,probs = learn_inf.predict(img)\n",
        "    lbl_pred.value = f'Prediction: {pred}; Probability: {probs[pred_idx]:.04f}'\n",
        "\n",
        "btn_run.on_click(on_click_classify)"
      ]
    },
    {
      "cell_type": "markdown",
      "metadata": {
        "id": "ripJKSsphseY"
      },
      "source": [
        "You can test the button now by pressing it, and you should see the image and predictions update automatically!\n",
        "\n",
        "We can now put them all in a vertical box (`VBox`) to complete our GUI:"
      ]
    },
    {
      "cell_type": "code",
      "execution_count": null,
      "metadata": {
        "id": "Gn7qeWROhseY"
      },
      "outputs": [],
      "source": [
        "#hide\n",
        "#Putting back btn_upload to a widget for next cell\n",
        "btn_upload = widgets.FileUpload()"
      ]
    },
    {
      "cell_type": "code",
      "execution_count": null,
      "metadata": {
        "id": "H-wFd8mdhseZ"
      },
      "outputs": [],
      "source": [
        "#hide_output\n",
        "VBox([widgets.Label('Select your bear!'),\n",
        "      btn_upload, btn_run, out_pl, lbl_pred])"
      ]
    },
    {
      "cell_type": "markdown",
      "metadata": {
        "id": "hmmjMW1XhseZ"
      },
      "source": [
        "<img alt=\"The whole widget\" width=\"233\" src=\"https://github.com/fastai/fastbook/blob/master/images/att_00011.png?raw=1\">"
      ]
    },
    {
      "cell_type": "markdown",
      "metadata": {
        "id": "6aZ5JOW6hseZ"
      },
      "source": [
        "We have written all the code necessary for our app. The next step is to convert it into something we can deploy."
      ]
    },
    {
      "cell_type": "markdown",
      "metadata": {
        "id": "92wreIfahsea"
      },
      "source": [
        "### Turning Your Notebook into a Real App"
      ]
    },
    {
      "cell_type": "code",
      "execution_count": null,
      "metadata": {
        "id": "nKEX8_i8hsea"
      },
      "outputs": [],
      "source": [
        "#hide\n",
        "# !pip install voila\n",
        "# !jupyter serverextension enable --sys-prefix voila"
      ]
    },
    {
      "cell_type": "markdown",
      "metadata": {
        "id": "-EWqvFQDhsea"
      },
      "source": [
        "Now that we have everything working in this Jupyter notebook, we can create our application. To do this, start a new notebook and add to it only the code needed to create and show the widgets that you need, and markdown for any text that you want to appear. Have a look at the *bear_classifier* notebook in the book's repo to see the simple notebook application we created.\n",
        "\n",
        "Next, install Voilà if you haven't already, by copying these lines into a notebook cell and executing it:\n",
        "\n",
        "    !pip install voila\n",
        "    !jupyter serverextension enable --sys-prefix voila\n",
        "\n",
        "Cells that begin with a `!` do not contain Python code, but instead contain code that is passed to your shell (bash, Windows PowerShell, etc.). If you are comfortable using the command line, which we'll discuss more later in this book, you can of course simply type these two lines (without the `!` prefix) directly into your terminal. In this case, the first line installs the `voila` library and application, and the second connects it to your existing Jupyter notebook.\n",
        "\n",
        "Voilà runs Jupyter notebooks just like the Jupyter notebook server you are using now does, but it also does something very important: it removes all of the cell inputs, and only shows output (including ipywidgets), along with your markdown cells. So what's left is a web application! To view your notebook as a Voilà web application, replace the word \"notebooks\" in your browser's URL with: \"voila/render\". You will see the same content as your notebook, but without any of the code cells.\n",
        "\n",
        "Of course, you don't need to use Voilà or ipywidgets. Your model is just a function you can call (`pred,pred_idx,probs = learn.predict(img)`), so you can use it with any framework, hosted on any platform. And you can take something you've prototyped in ipywidgets and Voilà and later convert it into a regular web application. We're showing you this approach in the book because we think it's a great way for data scientists and other folks that aren't web development experts to create applications from their models.\n",
        "\n",
        "We have our app, now let's deploy it!"
      ]
    },
    {
      "cell_type": "markdown",
      "metadata": {
        "id": "LUbZR0d5hsea"
      },
      "source": [
        "### Deploying your app"
      ]
    },
    {
      "cell_type": "markdown",
      "metadata": {
        "id": "oaZRxOUqhsea"
      },
      "source": [
        "As you now know, you need a GPU to train nearly any useful deep learning model. So, do you need a GPU to use that model in production? No! You almost certainly *do not need a GPU to serve your model in production*. There are a few reasons for this:\n",
        "\n",
        "- As we've seen, GPUs are only useful when they do lots of identical work in parallel. If you're doing (say) image classification, then you'll normally be classifying just one user's image at a time, and there isn't normally enough work to do in a single image to keep a GPU busy for long enough for it to be very efficient. So, a CPU will often be more cost-effective.\n",
        "- An alternative could be to wait for a few users to submit their images, and then batch them up and process them all at once on a GPU. But then you're asking your users to wait, rather than getting answers straight away! And you need a high-volume site for this to be workable. If you do need this functionality, you can use a tool such as Microsoft's [ONNX Runtime](https://github.com/microsoft/onnxruntime), or [AWS Sagemaker](https://aws.amazon.com/sagemaker/)\n",
        "- The complexities of dealing with GPU inference are significant. In particular, the GPU's memory will need careful manual management, and you'll need a careful queueing system to ensure you only process one batch at a time.\n",
        "- There's a lot more market competition in CPU than GPU servers, as a result of which there are much cheaper options available for CPU servers.\n",
        "\n",
        "Because of the complexity of GPU serving, many systems have sprung up to try to automate this. However, managing and running these systems is also complex, and generally requires compiling your model into a different form that's specialized for that system. It's typically preferable to avoid dealing with this complexity until/unless your app gets popular enough that it makes clear financial sense for you to do so."
      ]
    },
    {
      "cell_type": "markdown",
      "metadata": {
        "id": "V6klavqDhseb"
      },
      "source": [
        "For at least the initial prototype of your application, and for any hobby projects that you want to show off, you can easily host them for free. The best place and the best way to do this will vary over time, so check the [book's website](https://book.fast.ai/) for the most up-to-date recommendations. As we're writing this book in early 2020 the simplest (and free!) approach is to use [Binder](https://mybinder.org/). To publish your web app on Binder, you follow these steps:\n",
        "\n",
        "1. Add your notebook to a [GitHub repository](http://github.com/).\n",
        "2. Paste the URL of that repo into Binder's URL, as shown in <<deploy-binder>>.\n",
        "3. Change the File dropdown to instead select URL.\n",
        "4. In the \"URL to open\" field, enter `/voila/render/name.ipynb` (replacing `name` with the name of for your notebook).\n",
        "5. Click the clickboard button at the bottom right to copy the URL and paste it somewhere safe.\n",
        "6. Click Launch."
      ]
    },
    {
      "cell_type": "markdown",
      "metadata": {
        "id": "cmSx-A-xhseb"
      },
      "source": [
        "<img alt=\"Deploying to Binder\" width=\"800\" caption=\"Deploying to Binder\" id=\"deploy-binder\" src=\"https://github.com/fastai/fastbook/blob/master/images/att_00001.png?raw=1\">"
      ]
    },
    {
      "cell_type": "markdown",
      "metadata": {
        "id": "40wnAFYphseb"
      },
      "source": [
        "The first time you do this, Binder will take around 5 minutes to build your site. Behind the scenes, it is finding a virtual machine that can run your app, allocating storage, collecting the files needed for Jupyter, for your notebook, and for presenting your notebook as a web application.\n",
        "\n",
        "Finally, once it has started the app running, it will navigate your browser to your new web app. You can share the URL you copied to allow others to access your app as well.\n",
        "\n",
        "For other (both free and paid) options for deploying your web app, be sure to take a look at the [book's website](https://book.fast.ai/)."
      ]
    },
    {
      "cell_type": "markdown",
      "metadata": {
        "id": "wz5Peaiohsec"
      },
      "source": [
        "You may well want to deploy your application onto mobile devices, or edge devices such as a Raspberry Pi. There are a lot of libraries and frameworks that allow you to integrate a model directly into a mobile application. However, these approaches tend to require a lot of extra steps and boilerplate, and do not always support all the PyTorch and fastai layers that your model might use. In addition, the work you do will depend on what kind of mobile devices you are targeting for deployment—you might need to do some work to run on iOS devices, different work to run on newer Android devices, different work for older Android devices, etc. Instead, we recommend wherever possible that you deploy the model itself to a server, and have your mobile or edge application connect to it as a web service.\n",
        "\n",
        "There are quite a few upsides to this approach. The initial installation is easier, because you only have to deploy a small GUI application, which connects to the server to do all the heavy lifting. More importantly perhaps, upgrades of that core logic can happen on your server, rather than needing to be distributed to all of your users. Your server will have a lot more memory and processing capacity than most edge devices, and it is far easier to scale those resources if your model becomes more demanding. The hardware that you will have on a server is also going to be more standard and more easily supported by fastai and PyTorch, so you don't have to compile your model into a different form.\n",
        "\n",
        "There are downsides too, of course. Your application will require a network connection, and there will be some latency each time the model is called. (It takes a while for a neural network model to run anyway, so this additional network latency may not make a big difference to your users in practice. In fact, since you can use better hardware on the server, the overall latency may even be less than if it were running locally!) Also, if your application uses sensitive data then your users may be concerned about an approach which sends that data to a remote server, so sometimes privacy considerations will mean that you need to run the model on the edge device (it may be possible to avoid this by having an *on-premise* server, such as inside a company's firewall). Managing the complexity and scaling the server can create additional overhead too, whereas if your model runs on the edge devices then each user is bringing their own compute resources, which leads to easier scaling with an increasing number of users (also known as *horizontal scaling*)."
      ]
    },
    {
      "cell_type": "markdown",
      "metadata": {
        "id": "xbaxrRxphsec"
      },
      "source": [
        "> A: I've had a chance to see up close how the mobile ML landscape is changing in my work. We offer an iPhone app that depends on computer vision, and for years we ran our own computer vision models in the cloud. This was the only way to do it then since those models needed significant memory and compute resources and took minutes to process inputs. This approach required building not only the models (fun!) but also the infrastructure to ensure a certain number of \"compute worker machines\" were absolutely always running (scary), that more machines would automatically come online if traffic increased, that there was stable storage for large inputs and outputs, that the iOS app could know and tell the user how their job was doing, etc. Nowadays Apple provides APIs for converting models to run efficiently on device and most iOS devices have dedicated ML hardware, so that's the strategy we use for our newer models. It's still not easy but in our case it's worth it, for a faster user experience and to worry less about servers. What works for you will depend, realistically, on the user experience you're trying to create and what you personally find is easy to do. If you really know how to run servers, do it. If you really know how to build native mobile apps, do that. There are many roads up the hill.\n",
        "\n",
        "Overall, we'd recommend using a simple CPU-based server approach where possible, for as long as you can get away with it. If you're lucky enough to have a very successful application, then you'll be able to justify the investment in more complex deployment approaches at that time.\n",
        "\n",
        "Congratulations, you have successfully built a deep learning model and deployed it! Now is a good time to take a pause and think about what could go wrong."
      ]
    },
    {
      "cell_type": "markdown",
      "metadata": {
        "id": "J02ISqJshsec"
      },
      "source": [
        "## How to Avoid Disaster"
      ]
    },
    {
      "cell_type": "markdown",
      "metadata": {
        "id": "tsniQdDBhsec"
      },
      "source": [
        "In practice, a deep learning model will be just one piece of a much bigger system. As we discussed at the start of this chapter, a data product requires thinking about the entire end-to-end process, from conception to use in production. In this book, we can't hope to cover all the complexity of managing deployed data products, such as managing multiple versions of models, A/B testing, canarying, refreshing the data (should we just grow and grow our datasets all the time, or should we regularly remove some of the old data?), handling data labeling, monitoring all this, detecting model rot, and so forth. In this section we will give an overview of some of the most important issues to consider; for a more detailed discussion of deployment issues we refer to you to the excellent [Building Machine Learning Powered Applications](http://shop.oreilly.com/product/0636920215912.do) by Emmanuel Ameisen (O'Reilly)\n",
        "\n",
        "One of the biggest issues to consider is that understanding and testing the behavior of a deep learning model is much more difficult than with most other code you write. With normal software development you can analyze the exact steps that the software is taking, and carefully study which of these steps match the desired behavior that you are trying to create. But with a neural network the behavior emerges from the model's attempt to match the training data, rather than being exactly defined.\n",
        "\n",
        "This can result in disaster! For instance, let's say we really were rolling out a bear detection system that will be attached to video cameras around campsites in national parks, and will warn campers of incoming bears. If we used a model trained with the dataset we downloaded there would be all kinds of problems in practice, such as:\n",
        "\n",
        "- Working with video data instead of images\n",
        "- Handling nighttime images, which may not appear in this dataset\n",
        "- Dealing with low-resolution camera images\n",
        "- Ensuring results are returned fast enough to be useful in practice\n",
        "- Recognizing bears in positions that are rarely seen in photos that people post online (for example from behind, partially covered by bushes, or when a long way away from the camera)"
      ]
    },
    {
      "cell_type": "markdown",
      "metadata": {
        "id": "NRZ8hM4Ohsec"
      },
      "source": [
        "A big part of the issue is that the kinds of photos that people are most likely to upload to the internet are the kinds of photos that do a good job of clearly and artistically displaying their subject matter—which isn't the kind of input this system is going to be getting. So, we may need to do a lot of our own data collection and labelling to create a useful system.\n",
        "\n",
        "This is just one example of the more general problem of *out-of-domain* data. That is to say, there may be data that our model sees in production which is very different to what it saw during training. There isn't really a complete technical solution to this problem; instead, we have to be careful about our approach to rolling out the technology.\n",
        "\n",
        "There are other reasons we need to be careful too. One very common problem is *domain shift*, where the type of data that our model sees changes over time. For instance, an insurance company may use a deep learning model as part of its pricing and risk algorithm, but over time the types of customers that the company attracts, and the types of risks they represent, may change so much that the original training data is no longer relevant.\n",
        "\n",
        "Out-of-domain data and domain shift are examples of a larger problem: that you can never fully understand the entire behaviour of your neural network. They have far too many parameters to be able to analytically understand all of their possible behaviors. This is the natural downside of their best feature—their flexibility, which enables them to solve complex problems where we may not even be able to fully specify our preferred solution approaches. The good news, however, is that there are ways to mitigate these risks using a carefully thought-out process. The details of this will vary depending on the details of the problem you are solving, but we will attempt to lay out here a high-level approach, summarized in <<deploy_process>>, which we hope will provide useful guidance."
      ]
    },
    {
      "cell_type": "markdown",
      "metadata": {
        "id": "1HUMUjb3hsed"
      },
      "source": [
        "<img alt=\"Deployment process\" width=\"500\" caption=\"Deployment process\" id=\"deploy_process\" src=\"https://github.com/fastai/fastbook/blob/master/images/att_00061.png?raw=1\">"
      ]
    },
    {
      "cell_type": "markdown",
      "metadata": {
        "id": "fFpargiAhsed"
      },
      "source": [
        "Where possible, the first step is to use an entirely manual process, with your deep learning model approach running in parallel but not being used directly to drive any actions. The humans involved in the manual process should look at the deep learning outputs and check whether they make sense. For instance, with our bear classifier a park ranger could have a screen displaying video feeds from all the cameras, with any possible bear sightings simply highlighted in red. The park ranger would still be expected to be just as alert as before the model was deployed; the model is simply helping to check for problems at this point.\n",
        "\n",
        "The second step is to try to limit the scope of the model, and have it carefully supervised by people. For instance, do a small geographically and time-constrained trial of the model-driven approach. Rather than rolling our bear classifier out in every national park throughout the country, we could pick a single observation post, for a one-week period, and have a park ranger check each alert before it goes out.\n",
        "\n",
        "Then, gradually increase the scope of your rollout. As you do so, ensure that you have really good reporting systems in place, to make sure that you are aware of any significant changes to the actions being taken compared to your manual process. For instance, if the number of bear alerts doubles or halves after rollout of the new system in some location, we should be very concerned. Try to think about all the ways in which your system could go wrong, and then think about what measure or report or picture could reflect that problem, and ensure that your regular reporting includes that information."
      ]
    },
    {
      "cell_type": "markdown",
      "metadata": {
        "id": "vzeUjGbPhsed"
      },
      "source": [
        "> J: I started a company 20 years ago called _Optimal Decisions_ that used machine learning and optimization to help giant insurance companies set their pricing, impacting tens of billions of dollars of risks. We used the approaches described here to manage the potential downsides of something going wrong. Also, before we worked with our clients to put anything in production, we tried to simulate the impact by testing the end-to-end system on their previous year's data. It was always quite a nerve-wracking process, putting these new algorithms into production, but every rollout was successful."
      ]
    },
    {
      "cell_type": "markdown",
      "metadata": {
        "id": "ZQat8bvFhsed"
      },
      "source": [
        "### Unforeseen Consequences and Feedback Loops"
      ]
    },
    {
      "cell_type": "markdown",
      "metadata": {
        "id": "jNgRBysThsee"
      },
      "source": [
        "One of the biggest challenges in rolling out a model is that your model may change the behaviour of the system it is a part of. For instance, consider a \"predictive policing\" algorithm that predicts more crime in certain neighborhoods, causing more police officers to be sent to those neighborhoods, which can result in more crimes being recorded in those neighborhoods, and so on. In the Royal Statistical Society paper [\"To Predict and Serve?\"](https://rss.onlinelibrary.wiley.com/doi/full/10.1111/j.1740-9713.2016.00960.x), Kristian Lum and William Isaac observe that: \"predictive policing is aptly named: it is predicting future policing, not future crime.\"\n",
        "\n",
        "Part of the issue in this case is that in the presence of bias (which we'll discuss in depth in the next chapter), *feedback loops* can result in negative implications of that bias getting worse and worse. For instance, there are concerns that this is already happening in the US, where there is significant bias in arrest rates on racial grounds. [According to the ACLU](https://www.aclu.org/issues/smart-justice/sentencing-reform/war-marijuana-black-and-white), \"despite roughly equal usage rates, Blacks are 3.73 times more likely than whites to be arrested for marijuana.\" The impact of this bias, along with the rollout of predictive policing algorithms in many parts of the US, led Bärí Williams to [write in the *New York Times*](https://www.nytimes.com/2017/12/02/opinion/sunday/intelligent-policing-and-my-innocent-children.html): \"The same technology that’s the source of so much excitement in my career is being used in law enforcement in ways that could mean that in the coming years, my son, who is 7 now, is more likely to be profiled or arrested—or worse—for no reason other than his race and where we live.\"\n",
        "\n",
        "A helpful exercise prior to rolling out a significant machine learning system is to consider this question: \"What would happen if it went really, really well?\" In other words, what if the predictive power was extremely high, and its ability to influence behavior was extremely significant? In that case, who would be most impacted? What would the most extreme results potentially look like? How would you know what was really going on?\n",
        "\n",
        "Such a thought exercise might help you to construct a more careful rollout plan, with ongoing monitoring systems and human oversight. Of course, human oversight isn't useful if it isn't listened to, so make sure that there are reliable and resilient communication channels so that the right people will be aware of issues, and will have the power to fix them."
      ]
    },
    {
      "cell_type": "markdown",
      "metadata": {
        "id": "MXAiawrDhsee"
      },
      "source": [
        "## Get Writing!"
      ]
    },
    {
      "cell_type": "markdown",
      "metadata": {
        "id": "F_Eq3hiNhsee"
      },
      "source": [
        "One of the things our students have found most helpful to solidify their understanding of this material is to write it down. There is no better test of your understanding of a topic than attempting to teach it to somebody else. This is helpful even if you never show your writing to anybody—but it's even better if you share it! So we recommend that, if you haven't already, you start a blog. Now that you've completed Chapter 2 and have learned how to train and deploy models, you're well placed to write your first blog post about your deep learning journey. What's surprised you? What opportunities do you see for deep learning in your field? What obstacles do you see?\n",
        "\n",
        "Rachel Thomas, cofounder of fast.ai, wrote in the article [\"Why You (Yes, You) Should Blog\"](https://medium.com/@racheltho/why-you-yes-you-should-blog-7d2544ac1045):\n",
        "\n",
        "```asciidoc\n",
        "____\n",
        "The top advice I would give my younger self would be to start blogging sooner. Here are some reasons to blog:\n",
        "\n",
        "* It’s like a resume, only better. I know of a few people who have had blog posts lead to job offers!\n",
        "* Helps you learn. Organizing knowledge always helps me synthesize my own ideas. One of the tests of whether you understand something is whether you can explain it to someone else. A blog post is a great way to do that.\n",
        "* I’ve gotten invitations to conferences and invitations to speak from my blog posts. I was invited to the TensorFlow Dev Summit (which was awesome!) for writing a blog post about how I don’t like TensorFlow.\n",
        "* Meet new people. I’ve met several people who have responded to blog posts I wrote.\n",
        "* Saves time. Any time you answer a question multiple times through email, you should turn it into a blog post, which makes it easier for you to share the next time someone asks.\n",
        "____\n",
        "```\n",
        "\n",
        "Perhaps her most important tip is this:\n",
        "\n",
        "> : You are best positioned to help people one step behind you. The material is still fresh in your mind. Many experts have forgotten what it was like to be a beginner (or an intermediate) and have forgotten why the topic is hard to understand when you first hear it. The context of your particular background, your particular style, and your knowledge level will give a different twist to what you’re writing about.\n",
        "\n",
        "We've provided full details on how to set up a blog in <<appendix_blog>>. If you don't have a blog already, take a look at that now, because we've got a really great approach set up for you to start blogging for free, with no ads—and you can even use Jupyter Notebook!"
      ]
    },
    {
      "cell_type": "markdown",
      "metadata": {
        "id": "UI89aD9Phsee"
      },
      "source": [
        "## Questionnaire"
      ]
    },
    {
      "cell_type": "markdown",
      "metadata": {
        "id": "KkqhG1JUhsee"
      },
      "source": [
        "1. Provide an example of where the bear classification model might work poorly in production, due to structural or style differences in the training data.\n",
        "1. Where do text models currently have a major deficiency?\n",
        "1. What are possible negative societal implications of text generation models?\n",
        "1. In situations where a model might make mistakes, and those mistakes could be harmful, what is a good alternative to automating a process?\n",
        "1. What kind of tabular data is deep learning particularly good at?\n",
        "1. What's a key downside of directly using a deep learning model for recommendation systems?\n",
        "1. What are the steps of the Drivetrain Approach?\n",
        "1. How do the steps of the Drivetrain Approach map to a recommendation system?\n",
        "1. Create an image recognition model using data you curate, and deploy it on the web.\n",
        "1. What is `DataLoaders`?\n",
        "1. What four things do we need to tell fastai to create `DataLoaders`?\n",
        "1. What does the `splitter` parameter to `DataBlock` do?\n",
        "1. How do we ensure a random split always gives the same validation set?\n",
        "1. What letters are often used to signify the independent and dependent variables?\n",
        "1. What's the difference between the crop, pad, and squish resize approaches? When might you choose one over the others?\n",
        "1. What is data augmentation? Why is it needed?\n",
        "1. What is the difference between `item_tfms` and `batch_tfms`?\n",
        "1. What is a confusion matrix?\n",
        "1. What does `export` save?\n",
        "1. What is it called when we use a model for getting predictions, instead of training?\n",
        "1. What are IPython widgets?\n",
        "1. When might you want to use CPU for deployment? When might GPU be better?\n",
        "1. What are the downsides of deploying your app to a server, instead of to a client (or edge) device such as a phone or PC?\n",
        "1. What are three examples of problems that could occur when rolling out a bear warning system in practice?\n",
        "1. What is \"out-of-domain data\"?\n",
        "1. What is \"domain shift\"?\n",
        "1. What are the three steps in the deployment process?"
      ]
    },
    {
      "cell_type": "markdown",
      "metadata": {
        "id": "9OPoGM0nhsef"
      },
      "source": [
        "### Further Research"
      ]
    },
    {
      "cell_type": "markdown",
      "metadata": {
        "id": "KY7OKCTthsef"
      },
      "source": [
        "1. Consider how the Drivetrain Approach maps to a project or problem you're interested in.\n",
        "1. When might it be best to avoid certain types of data augmentation?\n",
        "1. For a project you're interested in applying deep learning to, consider the thought experiment \"What would happen if it went really, really well?\"\n",
        "1. Start a blog, and write your first blog post. For instance, write about what you think deep learning might be useful for in a domain you're interested in."
      ]
    },
    {
      "cell_type": "code",
      "execution_count": null,
      "metadata": {
        "id": "V6gSKIGHhsef"
      },
      "outputs": [],
      "source": []
    }
  ],
  "metadata": {
    "jupytext": {
      "split_at_heading": true
    },
    "kernelspec": {
      "display_name": "Python 3",
      "language": "python",
      "name": "python3"
    },
    "colab": {
      "provenance": [],
      "include_colab_link": true
    }
  },
  "nbformat": 4,
  "nbformat_minor": 0
}